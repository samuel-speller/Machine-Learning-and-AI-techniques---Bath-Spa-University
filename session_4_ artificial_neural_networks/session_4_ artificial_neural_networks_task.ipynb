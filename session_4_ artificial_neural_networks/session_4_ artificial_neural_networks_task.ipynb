{
 "cells": [
  {
   "cell_type": "code",
   "execution_count": 142,
   "metadata": {},
   "outputs": [],
   "source": [
    "from pandas import read_csv\n",
    "from sklearn.model_selection import train_test_split\n",
    "from sklearn.preprocessing import LabelEncoder\n",
    "from sklearn.metrics import accuracy_score\n",
    "from tensorflow import keras\n",
    "from keras import Sequential\n",
    "from keras.layers import Dense\n",
    "from matplotlib import pyplot\n",
    "import numpy as np"
   ]
  },
  {
   "cell_type": "markdown",
   "metadata": {},
   "source": [
    "## Develop Multilayer Perceptron Models"
   ]
  },
  {
   "cell_type": "code",
   "execution_count": 143,
   "metadata": {},
   "outputs": [],
   "source": [
    "from pandas import read_csv\n",
    "import pandas as pd\n",
    "from sklearn.model_selection import train_test_split\n",
    "from sklearn.preprocessing import LabelEncoder\n",
    "from tensorflow.keras import Sequential\n",
    "from tensorflow.keras.layers import Dense\n",
    "from matplotlib import pyplot"
   ]
  },
  {
   "cell_type": "code",
   "execution_count": 144,
   "metadata": {},
   "outputs": [
    {
     "data": {
      "text/html": [
       "<div>\n",
       "<style scoped>\n",
       "    .dataframe tbody tr th:only-of-type {\n",
       "        vertical-align: middle;\n",
       "    }\n",
       "\n",
       "    .dataframe tbody tr th {\n",
       "        vertical-align: top;\n",
       "    }\n",
       "\n",
       "    .dataframe thead th {\n",
       "        text-align: right;\n",
       "    }\n",
       "</style>\n",
       "<table border=\"1\" class=\"dataframe\">\n",
       "  <thead>\n",
       "    <tr style=\"text-align: right;\">\n",
       "      <th></th>\n",
       "      <th>Sex</th>\n",
       "      <th>Length</th>\n",
       "      <th>Diameter</th>\n",
       "      <th>Height</th>\n",
       "      <th>Whole weight</th>\n",
       "      <th>Shucked weight</th>\n",
       "      <th>Viscera weight</th>\n",
       "      <th>Shell weight</th>\n",
       "      <th>rings</th>\n",
       "    </tr>\n",
       "  </thead>\n",
       "  <tbody>\n",
       "    <tr>\n",
       "      <th>0</th>\n",
       "      <td>M</td>\n",
       "      <td>0.455</td>\n",
       "      <td>0.365</td>\n",
       "      <td>0.095</td>\n",
       "      <td>0.5140</td>\n",
       "      <td>0.2245</td>\n",
       "      <td>0.1010</td>\n",
       "      <td>0.150</td>\n",
       "      <td>15</td>\n",
       "    </tr>\n",
       "    <tr>\n",
       "      <th>1</th>\n",
       "      <td>M</td>\n",
       "      <td>0.350</td>\n",
       "      <td>0.265</td>\n",
       "      <td>0.090</td>\n",
       "      <td>0.2255</td>\n",
       "      <td>0.0995</td>\n",
       "      <td>0.0485</td>\n",
       "      <td>0.070</td>\n",
       "      <td>7</td>\n",
       "    </tr>\n",
       "    <tr>\n",
       "      <th>2</th>\n",
       "      <td>F</td>\n",
       "      <td>0.530</td>\n",
       "      <td>0.420</td>\n",
       "      <td>0.135</td>\n",
       "      <td>0.6770</td>\n",
       "      <td>0.2565</td>\n",
       "      <td>0.1415</td>\n",
       "      <td>0.210</td>\n",
       "      <td>9</td>\n",
       "    </tr>\n",
       "    <tr>\n",
       "      <th>3</th>\n",
       "      <td>M</td>\n",
       "      <td>0.440</td>\n",
       "      <td>0.365</td>\n",
       "      <td>0.125</td>\n",
       "      <td>0.5160</td>\n",
       "      <td>0.2155</td>\n",
       "      <td>0.1140</td>\n",
       "      <td>0.155</td>\n",
       "      <td>10</td>\n",
       "    </tr>\n",
       "    <tr>\n",
       "      <th>4</th>\n",
       "      <td>I</td>\n",
       "      <td>0.330</td>\n",
       "      <td>0.255</td>\n",
       "      <td>0.080</td>\n",
       "      <td>0.2050</td>\n",
       "      <td>0.0895</td>\n",
       "      <td>0.0395</td>\n",
       "      <td>0.055</td>\n",
       "      <td>7</td>\n",
       "    </tr>\n",
       "  </tbody>\n",
       "</table>\n",
       "</div>"
      ],
      "text/plain": [
       "  Sex  Length  Diameter  Height  Whole weight  Shucked weight  Viscera weight  \\\n",
       "0   M   0.455     0.365   0.095        0.5140          0.2245          0.1010   \n",
       "1   M   0.350     0.265   0.090        0.2255          0.0995          0.0485   \n",
       "2   F   0.530     0.420   0.135        0.6770          0.2565          0.1415   \n",
       "3   M   0.440     0.365   0.125        0.5160          0.2155          0.1140   \n",
       "4   I   0.330     0.255   0.080        0.2050          0.0895          0.0395   \n",
       "\n",
       "   Shell weight  rings  \n",
       "0         0.150     15  \n",
       "1         0.070      7  \n",
       "2         0.210      9  \n",
       "3         0.155     10  \n",
       "4         0.055      7  "
      ]
     },
     "execution_count": 144,
     "metadata": {},
     "output_type": "execute_result"
    }
   ],
   "source": [
    "# mlp for multiclass classification\n",
    "\n",
    "# load the dataset\n",
    "df = pd.read_csv(\"abalone.csv\", header=None, names=['Sex','Length','Diameter', 'Height','Whole weight','Shucked weight','Viscera weight','Shell weight', 'rings'])\n",
    "df.head()"
   ]
  },
  {
   "cell_type": "markdown",
   "metadata": {},
   "source": [
    "## summary statistics"
   ]
  },
  {
   "cell_type": "code",
   "execution_count": 145,
   "metadata": {},
   "outputs": [
    {
     "name": "stdout",
     "output_type": "stream",
     "text": [
      "            Length     Diameter       Height  Whole weight  Shucked weight  \\\n",
      "count  4177.000000  4177.000000  4177.000000   4177.000000     4177.000000   \n",
      "mean      0.523992     0.407881     0.139516      0.828742        0.359367   \n",
      "std       0.120093     0.099240     0.041827      0.490389        0.221963   \n",
      "min       0.075000     0.055000     0.000000      0.002000        0.001000   \n",
      "25%       0.450000     0.350000     0.115000      0.441500        0.186000   \n",
      "50%       0.545000     0.425000     0.140000      0.799500        0.336000   \n",
      "75%       0.615000     0.480000     0.165000      1.153000        0.502000   \n",
      "max       0.815000     0.650000     1.130000      2.825500        1.488000   \n",
      "\n",
      "       Viscera weight  Shell weight        rings  \n",
      "count     4177.000000   4177.000000  4177.000000  \n",
      "mean         0.180594      0.238831     9.933684  \n",
      "std          0.109614      0.139203     3.224169  \n",
      "min          0.000500      0.001500     1.000000  \n",
      "25%          0.093500      0.130000     8.000000  \n",
      "50%          0.171000      0.234000     9.000000  \n",
      "75%          0.253000      0.329000    11.000000  \n",
      "max          0.760000      1.005000    29.000000  \n"
     ]
    },
    {
     "data": {
      "image/png": "[encoded data removed]",
      "text/plain": [
       "<Figure size 1000x1000 with 9 Axes>"
      ]
     },
     "metadata": {},
     "output_type": "display_data"
    }
   ],
   "source": [
    "\n",
    "# show summary statistics and plots of the ionosphere dataset\n",
    "from pandas import read_csv\n",
    "from matplotlib import pyplot\n",
    "\n",
    "# show summary statistics\n",
    "print(df.describe())\n",
    "# plot histograms\n",
    "df.hist(figsize=(10, 10))\n",
    "pyplot.show()"
   ]
  },
  {
   "cell_type": "markdown",
   "metadata": {},
   "source": [
    "## Splitting and Training the Model"
   ]
  },
  {
   "cell_type": "code",
   "execution_count": 146,
   "metadata": {},
   "outputs": [
    {
     "name": "stdout",
     "output_type": "stream",
     "text": [
      "(2798, 8) (1379, 8) (2798,) (1379,)\n"
     ]
    }
   ],
   "source": [
    "# split into input and output columns\n",
    "X = df.drop('Sex', axis='columns')\n",
    "y = df['Sex']\n",
    "# ensure all data are floating point values\n",
    "X = X.astype('float32')\n",
    "# encode strings to integer\n",
    "y = LabelEncoder().fit_transform(y)\n",
    "# split into train and test datasets\n",
    "X_train, X_test, y_train, y_test = train_test_split(X, y, test_size=0.33)\n",
    "print(X_train.shape, X_test.shape, y_train.shape, y_test.shape)"
   ]
  },
  {
   "cell_type": "code",
   "execution_count": 147,
   "metadata": {},
   "outputs": [
    {
     "name": "stdout",
     "output_type": "stream",
     "text": [
      "8\n"
     ]
    }
   ],
   "source": [
    "# determine the number of input features\n",
    "n_features = X_train.shape[1]\n",
    "\n",
    "print(n_features)"
   ]
  },
  {
   "cell_type": "code",
   "execution_count": 212,
   "metadata": {},
   "outputs": [],
   "source": [
    "# define model\n",
    "model = Sequential()\n",
    "model.add(Dense(10, activation='relu', kernel_initializer='he_normal', input_shape=(n_features,)))\n",
    "model.add(Dense(10, activation='softplus', kernel_initializer='he_normal', input_shape=(n_features,)))\n",
    "model.add(Dense(3, activation='sigmoid'))"
   ]
  },
  {
   "cell_type": "code",
   "execution_count": 188,
   "metadata": {},
   "outputs": [],
   "source": [
    "#model.weights"
   ]
  },
  {
   "cell_type": "code",
   "execution_count": 213,
   "metadata": {},
   "outputs": [
    {
     "name": "stdout",
     "output_type": "stream",
     "text": [
      "Epoch 1/200\n",
      "88/88 [==============================] - 0s 2ms/step - loss: 1.4172 - val_loss: 1.1048\n",
      "Epoch 2/200\n",
      "88/88 [==============================] - 0s 1ms/step - loss: 1.0812 - val_loss: 1.0504\n",
      "Epoch 3/200\n",
      "88/88 [==============================] - 0s 1ms/step - loss: 1.0302 - val_loss: 0.9929\n",
      "Epoch 4/200\n",
      "88/88 [==============================] - 0s 1ms/step - loss: 0.9793 - val_loss: 0.9538\n",
      "Epoch 5/200\n",
      "88/88 [==============================] - 0s 1ms/step - loss: 0.9426 - val_loss: 0.9395\n",
      "Epoch 6/200\n",
      "88/88 [==============================] - 0s 1ms/step - loss: 0.9174 - val_loss: 0.9233\n",
      "Epoch 7/200\n",
      "88/88 [==============================] - 0s 1ms/step - loss: 0.9051 - val_loss: 0.8993\n",
      "Epoch 8/200\n",
      "88/88 [==============================] - 0s 1ms/step - loss: 0.8956 - val_loss: 0.8948\n",
      "Epoch 9/200\n",
      "88/88 [==============================] - 0s 1ms/step - loss: 0.8923 - val_loss: 0.8910\n",
      "Epoch 10/200\n",
      "88/88 [==============================] - 0s 1ms/step - loss: 0.8896 - val_loss: 0.8905\n",
      "Epoch 11/200\n",
      "88/88 [==============================] - 0s 1ms/step - loss: 0.8843 - val_loss: 0.8927\n",
      "Epoch 12/200\n",
      "88/88 [==============================] - 0s 1ms/step - loss: 0.8829 - val_loss: 0.8865\n",
      "Epoch 13/200\n",
      "88/88 [==============================] - 0s 1ms/step - loss: 0.8821 - val_loss: 0.8995\n",
      "Epoch 14/200\n",
      "88/88 [==============================] - 0s 1ms/step - loss: 0.8812 - val_loss: 0.8869\n",
      "Epoch 15/200\n",
      "88/88 [==============================] - 0s 1ms/step - loss: 0.8829 - val_loss: 0.8892\n",
      "Epoch 16/200\n",
      "88/88 [==============================] - 0s 1ms/step - loss: 0.8813 - val_loss: 0.8917\n",
      "Epoch 17/200\n",
      "88/88 [==============================] - 0s 1ms/step - loss: 0.8796 - val_loss: 0.8870\n",
      "Epoch 18/200\n",
      "88/88 [==============================] - 0s 1ms/step - loss: 0.8792 - val_loss: 0.8867\n",
      "Epoch 19/200\n",
      "88/88 [==============================] - 0s 2ms/step - loss: 0.8792 - val_loss: 0.8852\n",
      "Epoch 20/200\n",
      "88/88 [==============================] - 0s 1ms/step - loss: 0.8804 - val_loss: 0.8908\n",
      "Epoch 21/200\n",
      "88/88 [==============================] - 0s 1ms/step - loss: 0.8775 - val_loss: 0.8967\n",
      "Epoch 22/200\n",
      "88/88 [==============================] - 0s 1ms/step - loss: 0.8774 - val_loss: 0.8956\n",
      "Epoch 23/200\n",
      "88/88 [==============================] - 0s 1ms/step - loss: 0.8817 - val_loss: 0.8819\n",
      "Epoch 24/200\n",
      "88/88 [==============================] - 0s 1ms/step - loss: 0.8773 - val_loss: 0.8855\n",
      "Epoch 25/200\n",
      "88/88 [==============================] - 0s 1ms/step - loss: 0.8774 - val_loss: 0.8851\n",
      "Epoch 26/200\n",
      "88/88 [==============================] - 0s 1ms/step - loss: 0.8778 - val_loss: 0.8844\n",
      "Epoch 27/200\n",
      "88/88 [==============================] - 0s 1ms/step - loss: 0.8748 - val_loss: 0.8904\n",
      "Epoch 28/200\n",
      "88/88 [==============================] - 0s 1ms/step - loss: 0.8783 - val_loss: 0.8826\n",
      "Epoch 29/200\n",
      "88/88 [==============================] - 0s 1ms/step - loss: 0.8769 - val_loss: 0.8836\n",
      "Epoch 30/200\n",
      "88/88 [==============================] - 0s 1ms/step - loss: 0.8757 - val_loss: 0.8806\n",
      "Epoch 31/200\n",
      "88/88 [==============================] - 0s 1ms/step - loss: 0.8785 - val_loss: 0.8831\n",
      "Epoch 32/200\n",
      "88/88 [==============================] - 0s 1ms/step - loss: 0.8790 - val_loss: 0.8927\n",
      "Epoch 33/200\n",
      "88/88 [==============================] - 0s 1ms/step - loss: 0.8771 - val_loss: 0.8821\n",
      "Epoch 34/200\n",
      "88/88 [==============================] - 0s 1ms/step - loss: 0.8739 - val_loss: 0.8779\n",
      "Epoch 35/200\n",
      "88/88 [==============================] - 0s 1ms/step - loss: 0.8748 - val_loss: 0.8790\n",
      "Epoch 36/200\n",
      "88/88 [==============================] - 0s 1ms/step - loss: 0.8752 - val_loss: 0.8935\n",
      "Epoch 37/200\n",
      "88/88 [==============================] - 0s 1ms/step - loss: 0.8780 - val_loss: 0.8937\n",
      "Epoch 38/200\n",
      "88/88 [==============================] - 0s 1ms/step - loss: 0.8754 - val_loss: 0.8865\n",
      "Epoch 39/200\n",
      "88/88 [==============================] - 0s 1ms/step - loss: 0.8768 - val_loss: 0.8796\n",
      "Epoch 40/200\n",
      "88/88 [==============================] - 0s 1ms/step - loss: 0.8733 - val_loss: 0.8801\n",
      "Epoch 41/200\n",
      "88/88 [==============================] - 0s 1ms/step - loss: 0.8764 - val_loss: 0.8843\n",
      "Epoch 42/200\n",
      "88/88 [==============================] - 0s 1ms/step - loss: 0.8741 - val_loss: 0.8754\n",
      "Epoch 43/200\n",
      "88/88 [==============================] - 0s 1ms/step - loss: 0.8728 - val_loss: 0.8749\n",
      "Epoch 44/200\n",
      "88/88 [==============================] - 0s 1ms/step - loss: 0.8713 - val_loss: 0.8792\n",
      "Epoch 45/200\n",
      "88/88 [==============================] - 0s 1ms/step - loss: 0.8718 - val_loss: 0.8873\n",
      "Epoch 46/200\n",
      "88/88 [==============================] - 0s 1ms/step - loss: 0.8724 - val_loss: 0.8769\n",
      "Epoch 47/200\n",
      "88/88 [==============================] - 0s 1ms/step - loss: 0.8715 - val_loss: 0.8761\n",
      "Epoch 48/200\n",
      "88/88 [==============================] - 0s 1ms/step - loss: 0.8706 - val_loss: 0.8722\n",
      "Epoch 49/200\n",
      "88/88 [==============================] - 0s 1ms/step - loss: 0.8718 - val_loss: 0.8723\n",
      "Epoch 50/200\n",
      "88/88 [==============================] - 0s 1ms/step - loss: 0.8701 - val_loss: 0.8755\n",
      "Epoch 51/200\n",
      "88/88 [==============================] - 0s 1ms/step - loss: 0.8729 - val_loss: 0.8844\n",
      "Epoch 52/200\n",
      "88/88 [==============================] - 0s 1ms/step - loss: 0.8689 - val_loss: 0.8767\n",
      "Epoch 53/200\n",
      "88/88 [==============================] - 0s 1ms/step - loss: 0.8703 - val_loss: 0.8784\n",
      "Epoch 54/200\n",
      "88/88 [==============================] - 0s 1ms/step - loss: 0.8711 - val_loss: 0.8752\n",
      "Epoch 55/200\n",
      "88/88 [==============================] - 0s 1ms/step - loss: 0.8719 - val_loss: 0.8801\n",
      "Epoch 56/200\n",
      "88/88 [==============================] - 0s 1ms/step - loss: 0.8694 - val_loss: 0.8703\n",
      "Epoch 57/200\n",
      "88/88 [==============================] - 0s 1ms/step - loss: 0.8703 - val_loss: 0.8731\n",
      "Epoch 58/200\n",
      "88/88 [==============================] - 0s 1ms/step - loss: 0.8714 - val_loss: 0.8712\n",
      "Epoch 59/200\n",
      "88/88 [==============================] - 0s 1ms/step - loss: 0.8706 - val_loss: 0.8701\n",
      "Epoch 60/200\n",
      "88/88 [==============================] - 0s 1ms/step - loss: 0.8690 - val_loss: 0.8745\n",
      "Epoch 61/200\n",
      "88/88 [==============================] - 0s 1ms/step - loss: 0.8677 - val_loss: 0.8829\n",
      "Epoch 62/200\n",
      "88/88 [==============================] - 0s 1ms/step - loss: 0.8689 - val_loss: 0.8708\n",
      "Epoch 63/200\n",
      "88/88 [==============================] - 0s 1ms/step - loss: 0.8698 - val_loss: 0.8733\n",
      "Epoch 64/200\n",
      "88/88 [==============================] - 0s 1ms/step - loss: 0.8683 - val_loss: 0.8702\n",
      "Epoch 65/200\n",
      "88/88 [==============================] - 0s 1ms/step - loss: 0.8694 - val_loss: 0.8749\n",
      "Epoch 66/200\n",
      "88/88 [==============================] - 0s 1ms/step - loss: 0.8685 - val_loss: 0.8765\n",
      "Epoch 67/200\n",
      "88/88 [==============================] - 0s 1ms/step - loss: 0.8681 - val_loss: 0.8734\n",
      "Epoch 68/200\n",
      "88/88 [==============================] - 0s 1ms/step - loss: 0.8683 - val_loss: 0.8747\n",
      "Epoch 69/200\n",
      "88/88 [==============================] - 0s 1ms/step - loss: 0.8680 - val_loss: 0.8849\n",
      "Epoch 70/200\n",
      "88/88 [==============================] - 0s 1ms/step - loss: 0.8682 - val_loss: 0.8661\n",
      "Epoch 71/200\n",
      "88/88 [==============================] - 0s 1ms/step - loss: 0.8664 - val_loss: 0.8752\n",
      "Epoch 72/200\n",
      "88/88 [==============================] - 0s 1ms/step - loss: 0.8669 - val_loss: 0.8759\n",
      "Epoch 73/200\n",
      "88/88 [==============================] - 0s 1ms/step - loss: 0.8681 - val_loss: 0.8652\n",
      "Epoch 74/200\n",
      "88/88 [==============================] - 0s 1ms/step - loss: 0.8675 - val_loss: 0.8644\n",
      "Epoch 75/200\n",
      "88/88 [==============================] - 0s 1ms/step - loss: 0.8662 - val_loss: 0.8670\n",
      "Epoch 76/200\n",
      "88/88 [==============================] - 0s 1ms/step - loss: 0.8674 - val_loss: 0.8757\n",
      "Epoch 77/200\n",
      "88/88 [==============================] - 0s 1ms/step - loss: 0.8662 - val_loss: 0.8681\n",
      "Epoch 78/200\n",
      "88/88 [==============================] - 0s 1ms/step - loss: 0.8670 - val_loss: 0.8724\n",
      "Epoch 79/200\n",
      "88/88 [==============================] - 0s 1ms/step - loss: 0.8660 - val_loss: 0.8650\n",
      "Epoch 80/200\n",
      "88/88 [==============================] - 0s 1ms/step - loss: 0.8636 - val_loss: 0.8654\n",
      "Epoch 81/200\n",
      "88/88 [==============================] - 0s 1ms/step - loss: 0.8658 - val_loss: 0.8621\n",
      "Epoch 82/200\n",
      "88/88 [==============================] - 0s 1ms/step - loss: 0.8674 - val_loss: 0.8654\n",
      "Epoch 83/200\n",
      "88/88 [==============================] - 0s 1ms/step - loss: 0.8644 - val_loss: 0.8657\n",
      "Epoch 84/200\n",
      "88/88 [==============================] - 0s 1ms/step - loss: 0.8633 - val_loss: 0.8716\n",
      "Epoch 85/200\n",
      "88/88 [==============================] - 0s 1ms/step - loss: 0.8641 - val_loss: 0.8691\n",
      "Epoch 86/200\n",
      "88/88 [==============================] - 0s 1ms/step - loss: 0.8660 - val_loss: 0.8668\n",
      "Epoch 87/200\n",
      "88/88 [==============================] - 0s 1ms/step - loss: 0.8654 - val_loss: 0.8661\n",
      "Epoch 88/200\n",
      "88/88 [==============================] - 0s 1ms/step - loss: 0.8648 - val_loss: 0.8703\n",
      "Epoch 89/200\n",
      "88/88 [==============================] - 0s 1ms/step - loss: 0.8637 - val_loss: 0.8631\n",
      "Epoch 90/200\n",
      "88/88 [==============================] - 0s 1ms/step - loss: 0.8666 - val_loss: 0.8632\n",
      "Epoch 91/200\n",
      "88/88 [==============================] - 0s 1ms/step - loss: 0.8620 - val_loss: 0.8622\n",
      "Epoch 92/200\n",
      "88/88 [==============================] - 0s 1ms/step - loss: 0.8656 - val_loss: 0.8629\n",
      "Epoch 93/200\n",
      "88/88 [==============================] - 0s 1ms/step - loss: 0.8629 - val_loss: 0.8824\n",
      "Epoch 94/200\n",
      "88/88 [==============================] - 0s 1ms/step - loss: 0.8658 - val_loss: 0.8649\n",
      "Epoch 95/200\n",
      "88/88 [==============================] - 0s 1ms/step - loss: 0.8642 - val_loss: 0.8654\n",
      "Epoch 96/200\n",
      "88/88 [==============================] - 0s 1ms/step - loss: 0.8619 - val_loss: 0.8768\n",
      "Epoch 97/200\n",
      "88/88 [==============================] - 0s 1ms/step - loss: 0.8647 - val_loss: 0.8644\n",
      "Epoch 98/200\n",
      "88/88 [==============================] - 0s 1ms/step - loss: 0.8644 - val_loss: 0.8747\n",
      "Epoch 99/200\n",
      "88/88 [==============================] - 0s 1ms/step - loss: 0.8621 - val_loss: 0.8615\n",
      "Epoch 100/200\n",
      "88/88 [==============================] - 0s 1ms/step - loss: 0.8613 - val_loss: 0.8626\n",
      "Epoch 101/200\n",
      "88/88 [==============================] - 0s 1ms/step - loss: 0.8625 - val_loss: 0.8665\n",
      "Epoch 102/200\n",
      "88/88 [==============================] - 0s 1ms/step - loss: 0.8632 - val_loss: 0.8715\n",
      "Epoch 103/200\n",
      "88/88 [==============================] - 0s 1ms/step - loss: 0.8636 - val_loss: 0.8617\n",
      "Epoch 104/200\n",
      "88/88 [==============================] - 0s 1ms/step - loss: 0.8611 - val_loss: 0.8594\n",
      "Epoch 105/200\n",
      "88/88 [==============================] - 0s 1ms/step - loss: 0.8616 - val_loss: 0.8681\n",
      "Epoch 106/200\n",
      "88/88 [==============================] - 0s 1ms/step - loss: 0.8622 - val_loss: 0.8637\n",
      "Epoch 107/200\n",
      "88/88 [==============================] - 0s 1ms/step - loss: 0.8612 - val_loss: 0.8621\n",
      "Epoch 108/200\n",
      "88/88 [==============================] - 0s 1ms/step - loss: 0.8628 - val_loss: 0.8615\n",
      "Epoch 109/200\n",
      "88/88 [==============================] - 0s 1ms/step - loss: 0.8627 - val_loss: 0.8618\n",
      "Epoch 110/200\n",
      "88/88 [==============================] - 0s 1ms/step - loss: 0.8620 - val_loss: 0.8621\n",
      "Epoch 111/200\n",
      "88/88 [==============================] - 0s 1ms/step - loss: 0.8613 - val_loss: 0.8627\n",
      "Epoch 112/200\n",
      "88/88 [==============================] - 0s 1ms/step - loss: 0.8612 - val_loss: 0.8617\n",
      "Epoch 113/200\n",
      "88/88 [==============================] - 0s 1ms/step - loss: 0.8614 - val_loss: 0.8593\n",
      "Epoch 114/200\n",
      "88/88 [==============================] - 0s 1ms/step - loss: 0.8611 - val_loss: 0.8599\n",
      "Epoch 115/200\n",
      "88/88 [==============================] - 0s 1ms/step - loss: 0.8601 - val_loss: 0.8652\n",
      "Epoch 116/200\n",
      "88/88 [==============================] - 0s 1ms/step - loss: 0.8604 - val_loss: 0.8661\n",
      "Epoch 117/200\n",
      "88/88 [==============================] - 0s 1ms/step - loss: 0.8603 - val_loss: 0.8606\n",
      "Epoch 118/200\n",
      "88/88 [==============================] - 0s 1ms/step - loss: 0.8600 - val_loss: 0.8747\n",
      "Epoch 119/200\n",
      "88/88 [==============================] - 0s 1ms/step - loss: 0.8615 - val_loss: 0.8618\n",
      "Epoch 120/200\n",
      "88/88 [==============================] - 0s 1ms/step - loss: 0.8610 - val_loss: 0.8600\n",
      "Epoch 121/200\n",
      "88/88 [==============================] - 0s 1ms/step - loss: 0.8624 - val_loss: 0.8623\n",
      "Epoch 122/200\n",
      "88/88 [==============================] - 0s 1ms/step - loss: 0.8628 - val_loss: 0.8573\n",
      "Epoch 123/200\n",
      "88/88 [==============================] - 0s 1ms/step - loss: 0.8609 - val_loss: 0.8656\n",
      "Epoch 124/200\n",
      "88/88 [==============================] - 0s 1ms/step - loss: 0.8618 - val_loss: 0.8619\n",
      "Epoch 125/200\n",
      "88/88 [==============================] - 0s 1ms/step - loss: 0.8595 - val_loss: 0.8573\n",
      "Epoch 126/200\n",
      "88/88 [==============================] - 0s 1ms/step - loss: 0.8623 - val_loss: 0.8613\n",
      "Epoch 127/200\n",
      "88/88 [==============================] - 0s 1ms/step - loss: 0.8597 - val_loss: 0.8579\n",
      "Epoch 128/200\n",
      "88/88 [==============================] - 0s 1ms/step - loss: 0.8597 - val_loss: 0.8615\n",
      "Epoch 129/200\n",
      "88/88 [==============================] - 0s 1ms/step - loss: 0.8589 - val_loss: 0.8593\n",
      "Epoch 130/200\n",
      "88/88 [==============================] - 0s 1ms/step - loss: 0.8604 - val_loss: 0.8581\n",
      "Epoch 131/200\n",
      "88/88 [==============================] - 0s 1ms/step - loss: 0.8599 - val_loss: 0.8598\n",
      "Epoch 132/200\n",
      "88/88 [==============================] - 0s 1ms/step - loss: 0.8609 - val_loss: 0.8602\n",
      "Epoch 133/200\n",
      "88/88 [==============================] - 0s 1ms/step - loss: 0.8603 - val_loss: 0.8621\n",
      "Epoch 134/200\n",
      "88/88 [==============================] - 0s 1ms/step - loss: 0.8597 - val_loss: 0.8557\n",
      "Epoch 135/200\n",
      "88/88 [==============================] - 0s 1ms/step - loss: 0.8594 - val_loss: 0.8601\n",
      "Epoch 136/200\n",
      "88/88 [==============================] - 0s 1ms/step - loss: 0.8612 - val_loss: 0.8562\n",
      "Epoch 137/200\n",
      "88/88 [==============================] - 0s 1ms/step - loss: 0.8575 - val_loss: 0.8565\n",
      "Epoch 138/200\n",
      "88/88 [==============================] - 0s 1ms/step - loss: 0.8627 - val_loss: 0.8585\n",
      "Epoch 139/200\n",
      "88/88 [==============================] - 0s 1ms/step - loss: 0.8590 - val_loss: 0.8581\n",
      "Epoch 140/200\n",
      "88/88 [==============================] - 0s 1ms/step - loss: 0.8600 - val_loss: 0.8663\n",
      "Epoch 141/200\n",
      "88/88 [==============================] - 0s 1ms/step - loss: 0.8588 - val_loss: 0.8562\n",
      "Epoch 142/200\n",
      "88/88 [==============================] - 0s 1ms/step - loss: 0.8576 - val_loss: 0.8630\n",
      "Epoch 143/200\n",
      "88/88 [==============================] - 0s 1ms/step - loss: 0.8587 - val_loss: 0.8557\n",
      "Epoch 144/200\n",
      "88/88 [==============================] - 0s 1ms/step - loss: 0.8587 - val_loss: 0.8569\n",
      "Epoch 145/200\n",
      "88/88 [==============================] - 0s 1ms/step - loss: 0.8594 - val_loss: 0.8572\n",
      "Epoch 146/200\n",
      "88/88 [==============================] - 0s 1ms/step - loss: 0.8592 - val_loss: 0.8591\n",
      "Epoch 147/200\n",
      "88/88 [==============================] - 0s 1ms/step - loss: 0.8594 - val_loss: 0.8563\n",
      "Epoch 148/200\n",
      "88/88 [==============================] - 0s 1ms/step - loss: 0.8597 - val_loss: 0.8557\n",
      "Epoch 149/200\n",
      "88/88 [==============================] - 0s 1ms/step - loss: 0.8581 - val_loss: 0.8578\n",
      "Epoch 150/200\n",
      "88/88 [==============================] - 0s 1ms/step - loss: 0.8579 - val_loss: 0.8592\n",
      "Epoch 151/200\n",
      "88/88 [==============================] - 0s 1ms/step - loss: 0.8595 - val_loss: 0.8562\n",
      "Epoch 152/200\n",
      "88/88 [==============================] - 0s 1ms/step - loss: 0.8582 - val_loss: 0.8682\n",
      "Epoch 153/200\n",
      "88/88 [==============================] - 0s 1ms/step - loss: 0.8599 - val_loss: 0.8562\n",
      "Epoch 154/200\n",
      "88/88 [==============================] - 0s 1ms/step - loss: 0.8575 - val_loss: 0.8599\n",
      "Epoch 155/200\n",
      "88/88 [==============================] - 0s 1ms/step - loss: 0.8589 - val_loss: 0.8677\n",
      "Epoch 156/200\n",
      "88/88 [==============================] - 0s 1ms/step - loss: 0.8582 - val_loss: 0.8566\n",
      "Epoch 157/200\n",
      "88/88 [==============================] - 0s 1ms/step - loss: 0.8563 - val_loss: 0.8593\n",
      "Epoch 158/200\n",
      "88/88 [==============================] - 0s 1ms/step - loss: 0.8595 - val_loss: 0.8569\n",
      "Epoch 159/200\n",
      "88/88 [==============================] - 0s 1ms/step - loss: 0.8559 - val_loss: 0.8667\n",
      "Epoch 160/200\n",
      "88/88 [==============================] - 0s 1ms/step - loss: 0.8576 - val_loss: 0.8583\n",
      "Epoch 161/200\n",
      "88/88 [==============================] - 0s 1ms/step - loss: 0.8580 - val_loss: 0.8607\n",
      "Epoch 162/200\n",
      "88/88 [==============================] - 0s 1ms/step - loss: 0.8564 - val_loss: 0.8612\n",
      "Epoch 163/200\n",
      "88/88 [==============================] - 0s 1ms/step - loss: 0.8563 - val_loss: 0.8649\n",
      "Epoch 164/200\n",
      "88/88 [==============================] - 0s 1ms/step - loss: 0.8571 - val_loss: 0.8541\n",
      "Epoch 165/200\n",
      "88/88 [==============================] - 0s 1ms/step - loss: 0.8561 - val_loss: 0.8623\n",
      "Epoch 166/200\n",
      "88/88 [==============================] - 0s 1ms/step - loss: 0.8569 - val_loss: 0.8649\n",
      "Epoch 167/200\n",
      "88/88 [==============================] - 0s 1ms/step - loss: 0.8582 - val_loss: 0.8567\n",
      "Epoch 168/200\n",
      "88/88 [==============================] - 0s 1ms/step - loss: 0.8586 - val_loss: 0.8554\n",
      "Epoch 169/200\n",
      "88/88 [==============================] - 0s 1ms/step - loss: 0.8561 - val_loss: 0.8605\n",
      "Epoch 170/200\n",
      "88/88 [==============================] - 0s 1ms/step - loss: 0.8557 - val_loss: 0.8550\n",
      "Epoch 171/200\n",
      "88/88 [==============================] - 0s 1ms/step - loss: 0.8545 - val_loss: 0.8610\n",
      "Epoch 172/200\n",
      "88/88 [==============================] - 0s 1ms/step - loss: 0.8579 - val_loss: 0.8550\n",
      "Epoch 173/200\n",
      "88/88 [==============================] - 0s 1ms/step - loss: 0.8566 - val_loss: 0.8614\n",
      "Epoch 174/200\n",
      "88/88 [==============================] - 0s 1ms/step - loss: 0.8559 - val_loss: 0.8587\n",
      "Epoch 175/200\n",
      "88/88 [==============================] - 0s 1ms/step - loss: 0.8558 - val_loss: 0.8573\n",
      "Epoch 176/200\n",
      "88/88 [==============================] - 0s 1ms/step - loss: 0.8559 - val_loss: 0.8603\n",
      "Epoch 177/200\n",
      "88/88 [==============================] - 0s 1ms/step - loss: 0.8556 - val_loss: 0.8543\n",
      "Epoch 178/200\n",
      "88/88 [==============================] - 0s 1ms/step - loss: 0.8581 - val_loss: 0.8591\n",
      "Epoch 179/200\n",
      "88/88 [==============================] - 0s 1ms/step - loss: 0.8554 - val_loss: 0.8627\n",
      "Epoch 180/200\n",
      "88/88 [==============================] - 0s 1ms/step - loss: 0.8561 - val_loss: 0.8551\n",
      "Epoch 181/200\n",
      "88/88 [==============================] - 0s 1ms/step - loss: 0.8546 - val_loss: 0.8596\n",
      "Epoch 182/200\n",
      "88/88 [==============================] - 0s 1ms/step - loss: 0.8555 - val_loss: 0.8556\n",
      "Epoch 183/200\n",
      "88/88 [==============================] - 0s 1ms/step - loss: 0.8584 - val_loss: 0.8679\n",
      "Epoch 184/200\n",
      "88/88 [==============================] - 0s 1ms/step - loss: 0.8568 - val_loss: 0.8548\n",
      "Epoch 185/200\n",
      "88/88 [==============================] - 0s 1ms/step - loss: 0.8567 - val_loss: 0.8605\n",
      "Epoch 186/200\n",
      "88/88 [==============================] - 0s 1ms/step - loss: 0.8558 - val_loss: 0.8578\n",
      "Epoch 187/200\n",
      "88/88 [==============================] - 0s 1ms/step - loss: 0.8580 - val_loss: 0.8568\n",
      "Epoch 188/200\n",
      "88/88 [==============================] - 0s 1ms/step - loss: 0.8554 - val_loss: 0.8573\n",
      "Epoch 189/200\n",
      "88/88 [==============================] - 0s 1ms/step - loss: 0.8560 - val_loss: 0.8552\n",
      "Epoch 190/200\n",
      "88/88 [==============================] - 0s 1ms/step - loss: 0.8565 - val_loss: 0.8567\n",
      "Epoch 191/200\n",
      "88/88 [==============================] - 0s 1ms/step - loss: 0.8550 - val_loss: 0.8540\n",
      "Epoch 192/200\n",
      "88/88 [==============================] - 0s 1ms/step - loss: 0.8562 - val_loss: 0.8541\n",
      "Epoch 193/200\n",
      "88/88 [==============================] - 0s 1ms/step - loss: 0.8569 - val_loss: 0.8561\n",
      "Epoch 194/200\n",
      "88/88 [==============================] - 0s 1ms/step - loss: 0.8563 - val_loss: 0.8539\n",
      "Epoch 195/200\n",
      "88/88 [==============================] - 0s 1ms/step - loss: 0.8574 - val_loss: 0.8570\n",
      "Epoch 196/200\n",
      "88/88 [==============================] - 0s 1ms/step - loss: 0.8553 - val_loss: 0.8540\n",
      "Epoch 197/200\n",
      "88/88 [==============================] - 0s 1ms/step - loss: 0.8549 - val_loss: 0.8567\n",
      "Epoch 198/200\n",
      "88/88 [==============================] - 0s 1ms/step - loss: 0.8550 - val_loss: 0.8633\n",
      "Epoch 199/200\n",
      "88/88 [==============================] - 0s 1ms/step - loss: 0.8539 - val_loss: 0.8554\n",
      "Epoch 200/200\n",
      "88/88 [==============================] - 0s 1ms/step - loss: 0.8550 - val_loss: 0.8540\n"
     ]
    }
   ],
   "source": [
    "\n",
    "# compile the model\n",
    "model.compile(optimizer='adam', loss='sparse_categorical_crossentropy')\n",
    "# fit the model\n",
    "history = model.fit(X_train, y_train, epochs=200, batch_size=32, verbose=1, validation_data=(X_test,y_test))"
   ]
  },
  {
   "cell_type": "code",
   "execution_count": 214,
   "metadata": {},
   "outputs": [
    {
     "name": "stdout",
     "output_type": "stream",
     "text": [
      "44/44 [==============================] - 0s 575us/step\n",
      "Accuracy: 0.537\n"
     ]
    }
   ],
   "source": [
    "# predict test set\n",
    "yhat = model.predict(X_test)\n",
    "classes = np.argmax(yhat,axis=1)\n",
    "# evaluate predictions\n",
    "score = accuracy_score(y_test, classes)\n",
    "print('Accuracy: %.3f' % score)"
   ]
  },
  {
   "cell_type": "code",
   "execution_count": 215,
   "metadata": {},
   "outputs": [
    {
     "data": {
      "image/png": "[encoded data removed]",
      "text/plain": [
       "<Figure size 640x480 with 1 Axes>"
      ]
     },
     "metadata": {},
     "output_type": "display_data"
    }
   ],
   "source": [
    "# plot learning curves\n",
    "pyplot.title('Learning Curves')\n",
    "pyplot.xlabel('Epoch')\n",
    "pyplot.ylabel('Cross Entropy')\n",
    "pyplot.plot(history.history['loss'], label='train')\n",
    "pyplot.plot(history.history['val_loss'], label='val')\n",
    "pyplot.legend()\n",
    "pyplot.show()"
   ]
  },
  {
   "cell_type": "code",
   "execution_count": null,
   "metadata": {},
   "outputs": [],
   "source": [
    "# make a prediction\n",
    "row = [5.1,3.5,1.4,0.2]\n",
    "yhat = model.predict([row])\n",
    "print('Predicted: %s (class=%d)' % (yhat, argmax(yhat)))"
   ]
  },
  {
   "attachments": {},
   "cell_type": "markdown",
   "metadata": {},
   "source": [
    "## MLP for Regression\n",
    "\n",
    "I have't changed anything below here "
   ]
  },
  {
   "cell_type": "code",
   "execution_count": null,
   "metadata": {},
   "outputs": [],
   "source": [
    "# mlp for regression\n",
    "from numpy import sqrt\n",
    "from pandas import read_csv\n",
    "from sklearn.model_selection import train_test_split\n",
    "from tensorflow.keras import Sequential\n",
    "from tensorflow.keras.layers import Dense"
   ]
  },
  {
   "cell_type": "code",
   "execution_count": null,
   "metadata": {},
   "outputs": [],
   "source": [
    "# load the dataset\n",
    "path = 'https://raw.githubusercontent.com/jbrownlee/Datasets/master/housing.csv'\n",
    "df = read_csv(path, header=None)\n",
    "# split into input and output columns\n",
    "X, y = df.values[:, :-1], df.values[:, -1]\n",
    "# split into train and test datasets\n",
    "X_train, X_test, y_train, y_test = train_test_split(X, y, test_size=0.33)\n",
    "print(X_train.shape, X_test.shape, y_train.shape, y_test.shape)"
   ]
  },
  {
   "cell_type": "code",
   "execution_count": null,
   "metadata": {},
   "outputs": [],
   "source": [
    "# determine the number of input features\n",
    "n_features = X_train.shape[1]"
   ]
  },
  {
   "cell_type": "code",
   "execution_count": null,
   "metadata": {},
   "outputs": [],
   "source": [
    "# define model\n",
    "model = Sequential()\n",
    "model.add(Dense(10, activation='relu', kernel_initializer='he_normal', input_shape=(n_features,)))\n",
    "model.add(Dense(8, activation='relu', kernel_initializer='he_normal'))\n",
    "model.add(Dense(1))\n",
    "# compile the model\n",
    "model.compile(optimizer='adam', loss='mse')\n",
    "# fit the model\n",
    "model.fit(X_train, y_train, epochs=150, batch_size=32, verbose=0)"
   ]
  },
  {
   "cell_type": "code",
   "execution_count": null,
   "metadata": {},
   "outputs": [],
   "source": [
    "# evaluate the model\n",
    "error = model.evaluate(X_test, y_test, verbose=0)\n",
    "print('MSE: %.3f, RMSE: %.3f' % (error, sqrt(error)))\n",
    "# make a prediction\n",
    "row = [0.00632,18.00,2.310,0,0.5380,6.5750,65.20,4.0900,1,296.0,15.30,396.90,4.98]\n",
    "yhat = model.predict([row])\n",
    "print('Predicted: %.3f' % yhat)"
   ]
  },
  {
   "attachments": {},
   "cell_type": "markdown",
   "metadata": {},
   "source": [
    "## How to Visualize a Deep Learning Model\n",
    "Model Text Description"
   ]
  },
  {
   "cell_type": "code",
   "execution_count": null,
   "metadata": {},
   "outputs": [],
   "source": [
    "# example of summarizing a model\n",
    "from tensorflow.keras import Sequential\n",
    "from tensorflow.keras.layers import Dense\n",
    "# define model\n",
    "model = Sequential()\n",
    "model.add(Dense(10, activation='relu', kernel_initializer='he_normal', input_shape=(8,)))\n",
    "model.add(Dense(8, activation='relu', kernel_initializer='he_normal'))\n",
    "model.add(Dense(1, activation='sigmoid'))\n",
    "# summarize the model\n",
    "model.summary()"
   ]
  },
  {
   "cell_type": "markdown",
   "metadata": {},
   "source": [
    "Model Architecture Plot"
   ]
  },
  {
   "cell_type": "code",
   "execution_count": null,
   "metadata": {},
   "outputs": [],
   "source": [
    "# example of plotting a model\n",
    "from tensorflow.keras import Sequential\n",
    "from tensorflow.keras.layers import Dense\n",
    "from tensorflow.keras.utils import plot_model\n",
    "# define model\n",
    "model = Sequential()\n",
    "model.add(Dense(10, activation='relu', kernel_initializer='he_normal', input_shape=(8,)))\n",
    "model.add(Dense(8, activation='relu', kernel_initializer='he_normal'))\n",
    "model.add(Dense(1, activation='sigmoid'))\n",
    "# summarize the model\n",
    "plot_model(model, 'model.png', show_shapes=True)"
   ]
  },
  {
   "cell_type": "markdown",
   "metadata": {},
   "source": [
    "## How to Plot Model Learning Curves"
   ]
  },
  {
   "cell_type": "code",
   "execution_count": null,
   "metadata": {},
   "outputs": [],
   "source": [
    "# example of plotting learning curves\n",
    "from sklearn.datasets import make_classification\n",
    "from tensorflow.keras import Sequential\n",
    "from tensorflow.keras.layers import Dense\n",
    "from tensorflow.keras.optimizers import SGD\n",
    "from matplotlib import pyplot\n",
    "# create the dataset\n",
    "X, y = make_classification(n_samples=1000, n_classes=2, random_state=1)\n",
    "# determine the number of input features\n",
    "n_features = X.shape[1]\n",
    "# define model\n",
    "model = Sequential()\n",
    "model.add(Dense(10, activation='relu', kernel_initializer='he_normal', input_shape=(n_features,)))\n",
    "model.add(Dense(1, activation='sigmoid'))\n",
    "# compile the model\n",
    "sgd = SGD(learning_rate=0.001, momentum=0.8)\n",
    "model.compile(optimizer=sgd, loss='binary_crossentropy')\n",
    "# fit the model\n",
    "history = model.fit(X, y, epochs=100, batch_size=32, verbose=0, validation_split=0.3)\n",
    "# plot learning curves\n",
    "pyplot.title('Learning Curves')\n",
    "pyplot.xlabel('Epoch')\n",
    "pyplot.ylabel('Cross Entropy')\n",
    "pyplot.plot(history.history['loss'], label='train')\n",
    "pyplot.plot(history.history['val_loss'], label='val')\n",
    "pyplot.legend()\n",
    "pyplot.show()"
   ]
  },
  {
   "cell_type": "markdown",
   "metadata": {},
   "source": [
    "## How to Save and Load Your Model"
   ]
  },
  {
   "cell_type": "code",
   "execution_count": null,
   "metadata": {},
   "outputs": [],
   "source": [
    "# example of saving a fit model\n",
    "from sklearn.datasets import make_classification\n",
    "from tensorflow import keras\n",
    "from keras import Sequential\n",
    "from keras.layers import Dense\n",
    "from keras.optimizers import SGD\n",
    "# create the dataset\n",
    "X, y = make_classification(n_samples=1000, n_features=4, n_classes=2, random_state=1)\n",
    "# determine the number of input features\n",
    "n_features = X.shape[1]\n",
    "# define model\n",
    "model = Sequential()\n",
    "model.add(Dense(10, activation='relu', kernel_initializer='he_normal', input_shape=(n_features,)))\n",
    "model.add(Dense(1, activation='sigmoid'))\n",
    "# compile the model\n",
    "sgd = SGD(learning_rate=0.001, momentum=0.8)\n",
    "model.compile(optimizer=sgd, loss='binary_crossentropy')\n",
    "# fit the model\n",
    "model.fit(X, y, epochs=100, batch_size=32, verbose=0, validation_split=0.3)\n",
    "# save model to file\n",
    "model.save('model.h5')"
   ]
  },
  {
   "cell_type": "code",
   "execution_count": null,
   "metadata": {},
   "outputs": [],
   "source": [
    "# example of loading a saved model\n",
    "from sklearn.datasets import make_classification\n",
    "from tensorflow.keras.models import load_model\n",
    "# create the dataset\n",
    "X, y = make_classification(n_samples=1000, n_features=4, n_classes=2, random_state=1)\n",
    "# load the model from file\n",
    "model = load_model('model.h5')\n",
    "# make a prediction\n",
    "row = [1.91518414, 1.14995454, -1.52847073, 0.79430654]\n",
    "yhat = model.predict([row])\n",
    "print('Predicted: %.3f' % yhat[0])"
   ]
  },
  {
   "cell_type": "markdown",
   "metadata": {},
   "source": [
    "## How to Reduce Overfitting with Dropout"
   ]
  },
  {
   "cell_type": "code",
   "execution_count": null,
   "metadata": {},
   "outputs": [],
   "source": [
    "# example of using dropout\n",
    "from sklearn.datasets import make_classification\n",
    "from tensorflow import keras\n",
    "from keras import Sequential\n",
    "from keras.layers import Dense\n",
    "from keras.layers import Dropout\n",
    "from matplotlib import pyplot"
   ]
  },
  {
   "cell_type": "code",
   "execution_count": null,
   "metadata": {},
   "outputs": [],
   "source": [
    "# create the dataset\n",
    "X, y = make_classification(n_samples=1000, n_classes=2, random_state=1)\n",
    "# determine the number of input features\n",
    "n_features = X.shape[1]"
   ]
  },
  {
   "cell_type": "code",
   "execution_count": null,
   "metadata": {},
   "outputs": [],
   "source": [
    "# define model\n",
    "model = Sequential()\n",
    "model.add(Dense(10, activation='relu', kernel_initializer='he_normal', input_shape=(n_features,)))\n",
    "model.add(Dropout(0.5))\n",
    "model.add(Dense(1, activation='sigmoid'))\n",
    "# compile the model\n",
    "model.compile(optimizer='adam', loss='binary_crossentropy')\n",
    "# fit the model\n",
    "history = model.fit(X, y, epochs=100, batch_size=32, validation_split=0.3, verbose=0)"
   ]
  },
  {
   "cell_type": "code",
   "execution_count": null,
   "metadata": {},
   "outputs": [],
   "source": [
    "# plot learning curves\n",
    "pyplot.title('Learning Curves')\n",
    "pyplot.xlabel('Epoch')\n",
    "pyplot.ylabel('Cross Entropy')\n",
    "pyplot.plot(history.history['loss'], label='train')\n",
    "pyplot.plot(history.history['val_loss'], label='val')\n",
    "pyplot.legend()\n",
    "pyplot.show()"
   ]
  },
  {
   "cell_type": "markdown",
   "metadata": {},
   "source": [
    "## How to Accelerate Training with Batch Normalization"
   ]
  },
  {
   "cell_type": "code",
   "execution_count": null,
   "metadata": {},
   "outputs": [],
   "source": [
    "# example of using batch normalization\n",
    "from sklearn.datasets import make_classification\n",
    "from tensorflow import keras\n",
    "from keras import Sequential\n",
    "from keras.layers import Dense, BatchNormalization\n",
    "from matplotlib import pyplot"
   ]
  },
  {
   "cell_type": "code",
   "execution_count": null,
   "metadata": {},
   "outputs": [],
   "source": [
    "# create the dataset\n",
    "X, y = make_classification(n_samples=1000, n_classes=2, random_state=1)\n",
    "# determine the number of input features\n",
    "n_features = X.shape[1]\n",
    "# define model\n",
    "model = Sequential()\n",
    "model.add(Dense(10, activation='relu', kernel_initializer='he_normal', input_shape=(n_features,)))\n",
    "model.add(BatchNormalization())\n",
    "model.add(Dense(1, activation='sigmoid'))\n",
    "# compile the model\n",
    "model.compile(optimizer='adam', loss='binary_crossentropy')\n",
    "# fit the model\n",
    "model.fit(X, y, epochs=100, batch_size=32, verbose=0)"
   ]
  },
  {
   "cell_type": "markdown",
   "metadata": {},
   "source": [
    "## How to Halt Training at the Right Time with Early Stopping"
   ]
  },
  {
   "cell_type": "code",
   "execution_count": null,
   "metadata": {},
   "outputs": [],
   "source": [
    "# example of using early stopping\n",
    "from sklearn.datasets import make_classification\n",
    "from tensorflow.keras import Sequential\n",
    "from tensorflow.keras.layers import Dense\n",
    "from tensorflow.keras.callbacks import EarlyStopping\n",
    "# create the dataset\n",
    "X, y = make_classification(n_samples=1000, n_classes=2, random_state=1)\n",
    "# determine the number of input features\n",
    "n_features = X.shape[1]\n",
    "# define model\n",
    "model = Sequential()\n",
    "model.add(Dense(10, activation='relu', kernel_initializer='he_normal', input_shape=(n_features,)))\n",
    "model.add(Dense(1, activation='sigmoid'))\n",
    "# compile the model\n",
    "model.compile(optimizer='adam', loss='binary_crossentropy')\n",
    "# configure early stopping\n",
    "es = EarlyStopping(monitor='val_loss', patience=5)\n",
    "# fit the model\n",
    "history = model.fit(X, y, epochs=200, batch_size=32, verbose=0, validation_split=0.3, callbacks=[es])"
   ]
  },
  {
   "cell_type": "code",
   "execution_count": null,
   "metadata": {},
   "outputs": [],
   "source": [
    "# plot learning curves\n",
    "pyplot.title('Learning Curves')\n",
    "pyplot.xlabel('Epoch')\n",
    "pyplot.ylabel('Cross Entropy')\n",
    "pyplot.plot(history.history['loss'], label='train')\n",
    "pyplot.plot(history.history['val_loss'], label='val')\n",
    "pyplot.legend()\n",
    "pyplot.show()"
   ]
  },
  {
   "cell_type": "markdown",
   "metadata": {},
   "source": [
    "## pyTorch"
   ]
  },
  {
   "cell_type": "code",
   "execution_count": null,
   "metadata": {},
   "outputs": [],
   "source": [
    "import pandas as pd\n",
    " \n",
    "# Read data\n",
    "data = pd.read_csv(\"sonar.csv\", header=None)\n",
    "X = data.iloc[:, 0:60]\n",
    "y = data.iloc[:, 60]"
   ]
  },
  {
   "cell_type": "code",
   "execution_count": null,
   "metadata": {},
   "outputs": [],
   "source": [
    "\n",
    "from sklearn.preprocessing import LabelEncoder\n",
    " \n",
    "encoder = LabelEncoder()\n",
    "encoder.fit(y)\n",
    "y = encoder.transform(y)"
   ]
  },
  {
   "cell_type": "code",
   "execution_count": null,
   "metadata": {},
   "outputs": [],
   "source": [
    "\n",
    "print(encoder.classes_)"
   ]
  },
  {
   "cell_type": "code",
   "execution_count": null,
   "metadata": {},
   "outputs": [],
   "source": [
    "print(y)"
   ]
  },
  {
   "cell_type": "code",
   "execution_count": null,
   "metadata": {},
   "outputs": [],
   "source": [
    "import torch\n",
    "from sklearn.model_selection import StratifiedKFold, train_test_split\n",
    " \n",
    "X = torch.tensor(X.values, dtype=torch.float32)\n",
    "y = torch.tensor(y, dtype=torch.float32).reshape(-1, 1)"
   ]
  },
  {
   "cell_type": "code",
   "execution_count": null,
   "metadata": {},
   "outputs": [],
   "source": [
    "import torch.nn as nn\n",
    " \n",
    "class Wide(nn.Module):\n",
    "    def __init__(self):\n",
    "        super().__init__()\n",
    "        self.hidden = nn.Linear(60, 180)\n",
    "        self.relu = nn.ReLU()\n",
    "        self.output = nn.Linear(180, 1)\n",
    "        self.sigmoid = nn.Sigmoid()\n",
    " \n",
    "    def forward(self, x):\n",
    "        x = self.relu(self.hidden(x))\n",
    "        x = self.sigmoid(self.output(x))\n",
    "        return x"
   ]
  },
  {
   "cell_type": "code",
   "execution_count": null,
   "metadata": {},
   "outputs": [],
   "source": [
    "class Deep(nn.Module):\n",
    "    def __init__(self):\n",
    "        super().__init__()\n",
    "        self.layer1 = nn.Linear(60, 60)\n",
    "        self.act1 = nn.ReLU()\n",
    "        self.layer2 = nn.Linear(60, 60)\n",
    "        self.act2 = nn.ReLU()\n",
    "        self.layer3 = nn.Linear(60, 60)\n",
    "        self.act3 = nn.ReLU()\n",
    "        self.output = nn.Linear(60, 1)\n",
    "        self.sigmoid = nn.Sigmoid()\n",
    " \n",
    "    def forward(self, x):\n",
    "        x = self.act1(self.layer1(x))\n",
    "        x = self.act2(self.layer2(x))\n",
    "        x = self.act3(self.layer3(x))\n",
    "        x = self.sigmoid(self.output(x))\n",
    "        return x"
   ]
  },
  {
   "cell_type": "code",
   "execution_count": null,
   "metadata": {},
   "outputs": [],
   "source": [
    "# Compare model sizes\n",
    "model1 = Wide()\n",
    "model2 = Deep()\n",
    "print(sum([x.reshape(-1).shape[0] for x in model1.parameters()]))  # 11161\n",
    "print(sum([x.reshape(-1).shape[0] for x in model2.parameters()]))  # 11041"
   ]
  },
  {
   "cell_type": "code",
   "execution_count": null,
   "metadata": {},
   "outputs": [],
   "source": [
    "import copy\n",
    "import numpy as np\n",
    "import torch\n",
    "import torch.nn as nn\n",
    "import torch.optim as optim\n",
    "import tqdm\n",
    "\n",
    "def model_train(model, X_train, y_train, X_val, y_val):\n",
    "    # loss function and optimizer\n",
    "    loss_fn = nn.BCELoss()  # binary cross entropy\n",
    "    optimizer = optim.Adam(model.parameters(), lr=0.0001)\n",
    "\n",
    "    n_epochs = 250   # number of epochs to run\n",
    "    batch_size = 10  # size of each batch\n",
    "    batch_start = torch.arange(0, len(X_train), batch_size)\n",
    "\n",
    "    # Hold the best model\n",
    "    best_acc = - np.inf   # init to negative infinity\n",
    "    best_weights = None\n",
    "\n",
    "    for epoch in range(n_epochs):\n",
    "        model.train()\n",
    "        with tqdm.tqdm(batch_start, unit=\"batch\", mininterval=0, disable=True) as bar:\n",
    "            bar.set_description(f\"Epoch {epoch}\")\n",
    "            for start in bar:\n",
    "                # take a batch\n",
    "                X_batch = X_train[start:start+batch_size]\n",
    "                y_batch = y_train[start:start+batch_size]\n",
    "                # forward pass\n",
    "                y_pred = model(X_batch)\n",
    "                loss = loss_fn(y_pred, y_batch)\n",
    "                # backward pass\n",
    "                optimizer.zero_grad()\n",
    "                loss.backward()\n",
    "                # update weights\n",
    "                optimizer.step()\n",
    "                # print progress\n",
    "                acc = (y_pred.round() == y_batch).float().mean()\n",
    "                bar.set_postfix(\n",
    "                    loss=float(loss),\n",
    "                    acc=float(acc)\n",
    "                )\n",
    "        # evaluate accuracy at end of each epoch\n",
    "        model.eval()\n",
    "        y_pred = model(X_val)\n",
    "        acc = (y_pred.round() == y_val).float().mean()\n",
    "        acc = float(acc)\n",
    "        if acc > best_acc:\n",
    "            best_acc = acc\n",
    "            best_weights = copy.deepcopy(model.state_dict())\n",
    "    # restore model and return best accuracy\n",
    "    model.load_state_dict(best_weights)\n",
    "    return best_acc"
   ]
  },
  {
   "cell_type": "code",
   "execution_count": null,
   "metadata": {},
   "outputs": [],
   "source": [
    "\n",
    "from sklearn.model_selection import StratifiedKFold, train_test_split\n",
    " \n",
    "# train-test split: Hold out the test set for final model evaluation\n",
    "X_train, X_test, y_train, y_test = train_test_split(X, y, train_size=0.7, shuffle=True)\n",
    " \n",
    "# define 5-fold cross validation test harness\n",
    "kfold = StratifiedKFold(n_splits=5, shuffle=True)\n",
    "cv_scores_wide = []\n",
    "for train, test in kfold.split(X_train, y_train):\n",
    "    # create model, train, and get accuracy\n",
    "    model = Wide()\n",
    "    acc = model_train(model, X_train[train], y_train[train], X_train[test], y_train[test])\n",
    "    print(\"Accuracy (wide): %.2f\" % acc)\n",
    "    cv_scores_wide.append(acc)\n",
    "cv_scores_deep = []\n",
    "for train, test in kfold.split(X_train, y_train):\n",
    "    # create model, train, and get accuracy\n",
    "    model = Deep()\n",
    "    acc = model_train(model, X_train[train], y_train[train], X_train[test], y_train[test])\n",
    "    print(\"Accuracy (deep): %.2f\" % acc)\n",
    "    cv_scores_deep.append(acc)\n",
    " \n",
    "# evaluate the model\n",
    "wide_acc = np.mean(cv_scores_wide)\n",
    "wide_std = np.std(cv_scores_wide)\n",
    "deep_acc = np.mean(cv_scores_deep)\n",
    "deep_std = np.std(cv_scores_deep)\n",
    "print(\"Wide: %.2f%% (+/- %.2f%%)\" % (wide_acc*100, wide_std*100))\n",
    "print(\"Deep: %.2f%% (+/- %.2f%%)\" % (deep_acc*100, deep_std*100))"
   ]
  },
  {
   "cell_type": "code",
   "execution_count": null,
   "metadata": {},
   "outputs": [],
   "source": [
    "# rebuild model with full set of training data\n",
    "if wide_acc > deep_acc:\n",
    "    print(\"Retrain a wide model\")\n",
    "    model = Wide()\n",
    "else:\n",
    "    print(\"Retrain a deep model\")\n",
    "    model = Deep()\n",
    "acc = model_train(model, X_train, y_train, X_test, y_test)\n",
    "print(f\"Final model accuracy: {acc*100:.2f}%\")"
   ]
  },
  {
   "cell_type": "code",
   "execution_count": null,
   "metadata": {},
   "outputs": [],
   "source": [
    "model.eval()\n",
    "with torch.no_grad():\n",
    "    # Test out inference with 5 samples\n",
    "    for i in range(5):\n",
    "        y_pred = model(X_test[i:i+1])\n",
    "        print(f\"{X_test[i].numpy()} -> {y_pred[0].numpy()} (expected {y_test[i].numpy()})\")"
   ]
  },
  {
   "cell_type": "code",
   "execution_count": null,
   "metadata": {},
   "outputs": [],
   "source": [
    "\n",
    "y_pred = model(X_test[i:i+1])\n",
    "y_pred = y_pred.round() # 0 or 1"
   ]
  },
  {
   "cell_type": "code",
   "execution_count": null,
   "metadata": {},
   "outputs": [],
   "source": [
    "\n",
    "threshold = 0.68\n",
    "y_pred = model(X_test[i:i+1])\n",
    "y_pred = (y_pred > threshold).float() # 0.0 or 1.0"
   ]
  },
  {
   "cell_type": "code",
   "execution_count": null,
   "metadata": {},
   "outputs": [],
   "source": [
    "\n",
    "from sklearn.metrics import roc_curve\n",
    "import matplotlib.pyplot as plt\n",
    " \n",
    "with torch.no_grad():\n",
    "    # Plot the ROC curve\n",
    "    y_pred = model(X_test)\n",
    "    fpr, tpr, thresholds = roc_curve(y_test, y_pred)\n",
    "    plt.plot(fpr, tpr) # ROC curve = TPR vs FPR\n",
    "    plt.title(\"Receiver Operating Characteristics\")\n",
    "    plt.xlabel(\"False Positive Rate\")\n",
    "    plt.ylabel(\"True Positive Rate\")\n",
    "    plt.show()"
   ]
  },
  {
   "cell_type": "code",
   "execution_count": null,
   "metadata": {},
   "outputs": [],
   "source": []
  },
  {
   "cell_type": "code",
   "execution_count": null,
   "metadata": {},
   "outputs": [],
   "source": []
  },
  {
   "cell_type": "code",
   "execution_count": null,
   "metadata": {},
   "outputs": [],
   "source": []
  },
  {
   "cell_type": "code",
   "execution_count": null,
   "metadata": {},
   "outputs": [],
   "source": [
    "import torch\n",
    "import numpy as np\n",
    "import pandas as pd\n",
    "import sklearn\n",
    "import matplotlib.pyplot as plt\n",
    "\n",
    "print(f\"PyTorch version: {torch.__version__}\")\n",
    "\n",
    "# Check PyTorch has access to MPS (Metal Performance Shader, Apple's GPU architecture)\n",
    "print(f\"Is MPS (Metal Performance Shader) built? {torch.backends.mps.is_built()}\")\n",
    "print(f\"Is MPS available? {torch.backends.mps.is_available()}\")\n",
    "\n",
    "# Set the device      \n",
    "device = \"mps\" if torch.backends.mps.is_available() else \"cpu\"\n",
    "print(f\"Using device: {device}\")"
   ]
  },
  {
   "cell_type": "code",
   "execution_count": null,
   "metadata": {},
   "outputs": [],
   "source": []
  },
  {
   "cell_type": "code",
   "execution_count": null,
   "metadata": {},
   "outputs": [],
   "source": []
  },
  {
   "cell_type": "code",
   "execution_count": null,
   "metadata": {},
   "outputs": [],
   "source": []
  },
  {
   "cell_type": "code",
   "execution_count": null,
   "metadata": {},
   "outputs": [],
   "source": []
  }
 ],
 "metadata": {
  "kernelspec": {
   "display_name": "base",
   "language": "python",
   "name": "python3"
  },
  "language_info": {
   "codemirror_mode": {
    "name": "ipython",
    "version": 3
   },
   "file_extension": ".py",
   "mimetype": "text/x-python",
   "name": "python",
   "nbconvert_exporter": "python",
   "pygments_lexer": "ipython3",
   "version": "3.10.9"
  },
  "orig_nbformat": 4,
  "vscode": {
   "interpreter": {
    "hash": "c6e4e9f98eb68ad3b7c296f83d20e6de614cb42e90992a65aa266555a3137d0d"
   }
  }
 },
 "nbformat": 4,
 "nbformat_minor": 2
}
