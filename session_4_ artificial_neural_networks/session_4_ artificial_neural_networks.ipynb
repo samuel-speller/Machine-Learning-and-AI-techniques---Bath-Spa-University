{
 "cells": [
  {
   "cell_type": "code",
   "execution_count": 179,
   "metadata": {},
   "outputs": [],
   "source": [
    "from pandas import read_csv\n",
    "from sklearn.model_selection import train_test_split\n",
    "from sklearn.preprocessing import LabelEncoder\n",
    "from sklearn.metrics import accuracy_score\n",
    "from tensorflow import keras\n",
    "from keras import Sequential\n",
    "from keras.layers import Dense\n",
    "from matplotlib import pyplot"
   ]
  },
  {
   "cell_type": "code",
   "execution_count": 180,
   "metadata": {},
   "outputs": [],
   "source": [
    "model = Sequential()"
   ]
  },
  {
   "cell_type": "code",
   "execution_count": 181,
   "metadata": {},
   "outputs": [],
   "source": [
    "model.add(Dense(3, input_shape=(3,), activation='relu'))\n",
    "model.add(Dense(1, activation='sigmoid'))"
   ]
  },
  {
   "cell_type": "code",
   "execution_count": 182,
   "metadata": {},
   "outputs": [
    {
     "name": "stdout",
     "output_type": "stream",
     "text": [
      "Model: \"sequential_47\"\n",
      "_________________________________________________________________\n",
      " Layer (type)                Output Shape              Param #   \n",
      "=================================================================\n",
      " dense_114 (Dense)           (None, 3)                 12        \n",
      "                                                                 \n",
      " dense_115 (Dense)           (None, 1)                 4         \n",
      "                                                                 \n",
      "=================================================================\n",
      "Total params: 16\n",
      "Trainable params: 16\n",
      "Non-trainable params: 0\n",
      "_________________________________________________________________\n"
     ]
    }
   ],
   "source": [
    "model.summary()"
   ]
  },
  {
   "attachments": {},
   "cell_type": "markdown",
   "metadata": {},
   "source": [
    "## Develop Multilayer Perceptron Models\n",
    "\n",
    "(this is another name for a neural network)"
   ]
  },
  {
   "cell_type": "code",
   "execution_count": 183,
   "metadata": {},
   "outputs": [],
   "source": [
    "from pandas import read_csv\n",
    "from sklearn.model_selection import train_test_split\n",
    "from sklearn.preprocessing import LabelEncoder\n",
    "from tensorflow.keras import Sequential\n",
    "from tensorflow.keras.layers import Dense"
   ]
  },
  {
   "cell_type": "code",
   "execution_count": 184,
   "metadata": {},
   "outputs": [
    {
     "data": {
      "text/html": [
       "<div>\n",
       "<style scoped>\n",
       "    .dataframe tbody tr th:only-of-type {\n",
       "        vertical-align: middle;\n",
       "    }\n",
       "\n",
       "    .dataframe tbody tr th {\n",
       "        vertical-align: top;\n",
       "    }\n",
       "\n",
       "    .dataframe thead th {\n",
       "        text-align: right;\n",
       "    }\n",
       "</style>\n",
       "<table border=\"1\" class=\"dataframe\">\n",
       "  <thead>\n",
       "    <tr style=\"text-align: right;\">\n",
       "      <th></th>\n",
       "      <th>0</th>\n",
       "      <th>1</th>\n",
       "      <th>2</th>\n",
       "      <th>3</th>\n",
       "      <th>4</th>\n",
       "      <th>5</th>\n",
       "      <th>6</th>\n",
       "      <th>7</th>\n",
       "      <th>8</th>\n",
       "      <th>9</th>\n",
       "      <th>...</th>\n",
       "      <th>25</th>\n",
       "      <th>26</th>\n",
       "      <th>27</th>\n",
       "      <th>28</th>\n",
       "      <th>29</th>\n",
       "      <th>30</th>\n",
       "      <th>31</th>\n",
       "      <th>32</th>\n",
       "      <th>33</th>\n",
       "      <th>34</th>\n",
       "    </tr>\n",
       "  </thead>\n",
       "  <tbody>\n",
       "    <tr>\n",
       "      <th>0</th>\n",
       "      <td>1</td>\n",
       "      <td>0</td>\n",
       "      <td>0.99539</td>\n",
       "      <td>-0.05889</td>\n",
       "      <td>0.85243</td>\n",
       "      <td>0.02306</td>\n",
       "      <td>0.83398</td>\n",
       "      <td>-0.37708</td>\n",
       "      <td>1.00000</td>\n",
       "      <td>0.03760</td>\n",
       "      <td>...</td>\n",
       "      <td>-0.51171</td>\n",
       "      <td>0.41078</td>\n",
       "      <td>-0.46168</td>\n",
       "      <td>0.21266</td>\n",
       "      <td>-0.34090</td>\n",
       "      <td>0.42267</td>\n",
       "      <td>-0.54487</td>\n",
       "      <td>0.18641</td>\n",
       "      <td>-0.45300</td>\n",
       "      <td>g</td>\n",
       "    </tr>\n",
       "    <tr>\n",
       "      <th>1</th>\n",
       "      <td>1</td>\n",
       "      <td>0</td>\n",
       "      <td>1.00000</td>\n",
       "      <td>-0.18829</td>\n",
       "      <td>0.93035</td>\n",
       "      <td>-0.36156</td>\n",
       "      <td>-0.10868</td>\n",
       "      <td>-0.93597</td>\n",
       "      <td>1.00000</td>\n",
       "      <td>-0.04549</td>\n",
       "      <td>...</td>\n",
       "      <td>-0.26569</td>\n",
       "      <td>-0.20468</td>\n",
       "      <td>-0.18401</td>\n",
       "      <td>-0.19040</td>\n",
       "      <td>-0.11593</td>\n",
       "      <td>-0.16626</td>\n",
       "      <td>-0.06288</td>\n",
       "      <td>-0.13738</td>\n",
       "      <td>-0.02447</td>\n",
       "      <td>b</td>\n",
       "    </tr>\n",
       "    <tr>\n",
       "      <th>2</th>\n",
       "      <td>1</td>\n",
       "      <td>0</td>\n",
       "      <td>1.00000</td>\n",
       "      <td>-0.03365</td>\n",
       "      <td>1.00000</td>\n",
       "      <td>0.00485</td>\n",
       "      <td>1.00000</td>\n",
       "      <td>-0.12062</td>\n",
       "      <td>0.88965</td>\n",
       "      <td>0.01198</td>\n",
       "      <td>...</td>\n",
       "      <td>-0.40220</td>\n",
       "      <td>0.58984</td>\n",
       "      <td>-0.22145</td>\n",
       "      <td>0.43100</td>\n",
       "      <td>-0.17365</td>\n",
       "      <td>0.60436</td>\n",
       "      <td>-0.24180</td>\n",
       "      <td>0.56045</td>\n",
       "      <td>-0.38238</td>\n",
       "      <td>g</td>\n",
       "    </tr>\n",
       "    <tr>\n",
       "      <th>3</th>\n",
       "      <td>1</td>\n",
       "      <td>0</td>\n",
       "      <td>1.00000</td>\n",
       "      <td>-0.45161</td>\n",
       "      <td>1.00000</td>\n",
       "      <td>1.00000</td>\n",
       "      <td>0.71216</td>\n",
       "      <td>-1.00000</td>\n",
       "      <td>0.00000</td>\n",
       "      <td>0.00000</td>\n",
       "      <td>...</td>\n",
       "      <td>0.90695</td>\n",
       "      <td>0.51613</td>\n",
       "      <td>1.00000</td>\n",
       "      <td>1.00000</td>\n",
       "      <td>-0.20099</td>\n",
       "      <td>0.25682</td>\n",
       "      <td>1.00000</td>\n",
       "      <td>-0.32382</td>\n",
       "      <td>1.00000</td>\n",
       "      <td>b</td>\n",
       "    </tr>\n",
       "    <tr>\n",
       "      <th>4</th>\n",
       "      <td>1</td>\n",
       "      <td>0</td>\n",
       "      <td>1.00000</td>\n",
       "      <td>-0.02401</td>\n",
       "      <td>0.94140</td>\n",
       "      <td>0.06531</td>\n",
       "      <td>0.92106</td>\n",
       "      <td>-0.23255</td>\n",
       "      <td>0.77152</td>\n",
       "      <td>-0.16399</td>\n",
       "      <td>...</td>\n",
       "      <td>-0.65158</td>\n",
       "      <td>0.13290</td>\n",
       "      <td>-0.53206</td>\n",
       "      <td>0.02431</td>\n",
       "      <td>-0.62197</td>\n",
       "      <td>-0.05707</td>\n",
       "      <td>-0.59573</td>\n",
       "      <td>-0.04608</td>\n",
       "      <td>-0.65697</td>\n",
       "      <td>g</td>\n",
       "    </tr>\n",
       "  </tbody>\n",
       "</table>\n",
       "<p>5 rows × 35 columns</p>\n",
       "</div>"
      ],
      "text/plain": [
       "   0   1        2        3        4        5        6        7        8   \\\n",
       "0   1   0  0.99539 -0.05889  0.85243  0.02306  0.83398 -0.37708  1.00000   \n",
       "1   1   0  1.00000 -0.18829  0.93035 -0.36156 -0.10868 -0.93597  1.00000   \n",
       "2   1   0  1.00000 -0.03365  1.00000  0.00485  1.00000 -0.12062  0.88965   \n",
       "3   1   0  1.00000 -0.45161  1.00000  1.00000  0.71216 -1.00000  0.00000   \n",
       "4   1   0  1.00000 -0.02401  0.94140  0.06531  0.92106 -0.23255  0.77152   \n",
       "\n",
       "        9   ...       25       26       27       28       29       30  \\\n",
       "0  0.03760  ... -0.51171  0.41078 -0.46168  0.21266 -0.34090  0.42267   \n",
       "1 -0.04549  ... -0.26569 -0.20468 -0.18401 -0.19040 -0.11593 -0.16626   \n",
       "2  0.01198  ... -0.40220  0.58984 -0.22145  0.43100 -0.17365  0.60436   \n",
       "3  0.00000  ...  0.90695  0.51613  1.00000  1.00000 -0.20099  0.25682   \n",
       "4 -0.16399  ... -0.65158  0.13290 -0.53206  0.02431 -0.62197 -0.05707   \n",
       "\n",
       "        31       32       33  34  \n",
       "0 -0.54487  0.18641 -0.45300   g  \n",
       "1 -0.06288 -0.13738 -0.02447   b  \n",
       "2 -0.24180  0.56045 -0.38238   g  \n",
       "3  1.00000 -0.32382  1.00000   b  \n",
       "4 -0.59573 -0.04608 -0.65697   g  \n",
       "\n",
       "[5 rows x 35 columns]"
      ]
     },
     "execution_count": 184,
     "metadata": {},
     "output_type": "execute_result"
    }
   ],
   "source": [
    "# mlp for binary classification\n",
    "\n",
    "# load the dataset\n",
    "path = 'https://raw.githubusercontent.com/jbrownlee/Datasets/master/ionosphere.csv'\n",
    "df = read_csv(path, header=None)\n",
    "df.head()"
   ]
  },
  {
   "cell_type": "markdown",
   "metadata": {},
   "source": [
    "## summary statistics"
   ]
  },
  {
   "cell_type": "code",
   "execution_count": 185,
   "metadata": {},
   "outputs": [
    {
     "name": "stdout",
     "output_type": "stream",
     "text": [
      "               0      1           2           3           4           5   \\\n",
      "count  351.000000  351.0  351.000000  351.000000  351.000000  351.000000   \n",
      "mean     0.891738    0.0    0.641342    0.044372    0.601068    0.115889   \n",
      "std      0.311155    0.0    0.497708    0.441435    0.519862    0.460810   \n",
      "min      0.000000    0.0   -1.000000   -1.000000   -1.000000   -1.000000   \n",
      "25%      1.000000    0.0    0.472135   -0.064735    0.412660   -0.024795   \n",
      "50%      1.000000    0.0    0.871110    0.016310    0.809200    0.022800   \n",
      "75%      1.000000    0.0    1.000000    0.194185    1.000000    0.334655   \n",
      "max      1.000000    0.0    1.000000    1.000000    1.000000    1.000000   \n",
      "\n",
      "               6           7           8           9   ...          24  \\\n",
      "count  351.000000  351.000000  351.000000  351.000000  ...  351.000000   \n",
      "mean     0.550095    0.119360    0.511848    0.181345  ...    0.396135   \n",
      "std      0.492654    0.520750    0.507066    0.483851  ...    0.578451   \n",
      "min     -1.000000   -1.000000   -1.000000   -1.000000  ...   -1.000000   \n",
      "25%      0.211310   -0.054840    0.087110   -0.048075  ...    0.000000   \n",
      "50%      0.728730    0.014710    0.684210    0.018290  ...    0.553890   \n",
      "75%      0.969240    0.445675    0.953240    0.534195  ...    0.905240   \n",
      "max      1.000000    1.000000    1.000000    1.000000  ...    1.000000   \n",
      "\n",
      "               25          26          27          28          29          30  \\\n",
      "count  351.000000  351.000000  351.000000  351.000000  351.000000  351.000000   \n",
      "mean    -0.071187    0.541641   -0.069538    0.378445   -0.027907    0.352514   \n",
      "std      0.508495    0.516205    0.550025    0.575886    0.507974    0.571483   \n",
      "min     -1.000000   -1.000000   -1.000000   -1.000000   -1.000000   -1.000000   \n",
      "25%     -0.332390    0.286435   -0.443165    0.000000   -0.236885    0.000000   \n",
      "50%     -0.015050    0.708240   -0.017690    0.496640    0.000000    0.442770   \n",
      "75%      0.156765    0.999945    0.153535    0.883465    0.154075    0.857620   \n",
      "max      1.000000    1.000000    1.000000    1.000000    1.000000    1.000000   \n",
      "\n",
      "               31          32          33  \n",
      "count  351.000000  351.000000  351.000000  \n",
      "mean    -0.003794    0.349364    0.014480  \n",
      "std      0.513574    0.522663    0.468337  \n",
      "min     -1.000000   -1.000000   -1.000000  \n",
      "25%     -0.242595    0.000000   -0.165350  \n",
      "50%      0.000000    0.409560    0.000000  \n",
      "75%      0.200120    0.813765    0.171660  \n",
      "max      1.000000    1.000000    1.000000  \n",
      "\n",
      "[8 rows x 34 columns]\n"
     ]
    },
    {
     "data": {
      "image/png": "[encoded data removed]",
      "text/plain": [
       "<Figure size 1500x1500 with 36 Axes>"
      ]
     },
     "metadata": {},
     "output_type": "display_data"
    }
   ],
   "source": [
    "\n",
    "# show summary statistics and plots of the ionosphere dataset\n",
    "from pandas import read_csv\n",
    "from matplotlib import pyplot\n",
    "# define the location of the dataset\n",
    "url = 'https://raw.githubusercontent.com/jbrownlee/Datasets/master/ionosphere.csv'\n",
    "# load the dataset\n",
    "df = read_csv(url, header=None)\n",
    "# show summary statistics\n",
    "print(df.describe())\n",
    "# plot histograms\n",
    "df.hist(figsize=(15, 15))\n",
    "pyplot.show()"
   ]
  },
  {
   "cell_type": "markdown",
   "metadata": {},
   "source": [
    "## Splitting and Training the Model"
   ]
  },
  {
   "cell_type": "code",
   "execution_count": 186,
   "metadata": {},
   "outputs": [
    {
     "name": "stdout",
     "output_type": "stream",
     "text": [
      "(235, 34) (116, 34) (235,) (116,)\n"
     ]
    }
   ],
   "source": [
    "# split into input and output columns\n",
    "X, y = df.values[:, :-1], df.values[:, -1]\n",
    "# ensure all data are floating point values\n",
    "X = X.astype('float32')\n",
    "# encode strings to integer\n",
    "y = LabelEncoder().fit_transform(y)\n",
    "# split into train and test datasets\n",
    "X_train, X_test, y_train, y_test = train_test_split(X, y, test_size=0.33)\n",
    "print(X_train.shape, X_test.shape, y_train.shape, y_test.shape)"
   ]
  },
  {
   "cell_type": "code",
   "execution_count": 187,
   "metadata": {},
   "outputs": [],
   "source": [
    "import numpy as np"
   ]
  },
  {
   "cell_type": "code",
   "execution_count": 188,
   "metadata": {},
   "outputs": [],
   "source": [
    "# determine the number of input features\n",
    "n_features = X_train.shape[1]"
   ]
  },
  {
   "cell_type": "code",
   "execution_count": 189,
   "metadata": {},
   "outputs": [
    {
     "name": "stdout",
     "output_type": "stream",
     "text": [
      "Epoch 1/200\n",
      "8/8 [==============================] - 0s 15ms/step - loss: 0.8874 - val_loss: 0.8894\n",
      "Epoch 2/200\n",
      "8/8 [==============================] - 0s 5ms/step - loss: 0.8265 - val_loss: 0.8289\n",
      "Epoch 3/200\n",
      "8/8 [==============================] - 0s 4ms/step - loss: 0.7784 - val_loss: 0.7784\n",
      "Epoch 4/200\n",
      "8/8 [==============================] - 0s 4ms/step - loss: 0.7375 - val_loss: 0.7356\n",
      "Epoch 5/200\n",
      "8/8 [==============================] - 0s 4ms/step - loss: 0.7020 - val_loss: 0.6973\n",
      "Epoch 6/200\n",
      "8/8 [==============================] - 0s 4ms/step - loss: 0.6705 - val_loss: 0.6625\n",
      "Epoch 7/200\n",
      "8/8 [==============================] - 0s 4ms/step - loss: 0.6395 - val_loss: 0.6327\n",
      "Epoch 8/200\n",
      "8/8 [==============================] - 0s 4ms/step - loss: 0.6131 - val_loss: 0.6054\n",
      "Epoch 9/200\n",
      "8/8 [==============================] - 0s 4ms/step - loss: 0.5887 - val_loss: 0.5804\n",
      "Epoch 10/200\n",
      "8/8 [==============================] - 0s 4ms/step - loss: 0.5662 - val_loss: 0.5569\n",
      "Epoch 11/200\n",
      "8/8 [==============================] - 0s 4ms/step - loss: 0.5451 - val_loss: 0.5355\n",
      "Epoch 12/200\n",
      "8/8 [==============================] - 0s 4ms/step - loss: 0.5260 - val_loss: 0.5157\n",
      "Epoch 13/200\n",
      "8/8 [==============================] - 0s 4ms/step - loss: 0.5084 - val_loss: 0.4991\n",
      "Epoch 14/200\n",
      "8/8 [==============================] - 0s 4ms/step - loss: 0.4933 - val_loss: 0.4842\n",
      "Epoch 15/200\n",
      "8/8 [==============================] - 0s 4ms/step - loss: 0.4792 - val_loss: 0.4714\n",
      "Epoch 16/200\n",
      "8/8 [==============================] - 0s 4ms/step - loss: 0.4676 - val_loss: 0.4594\n",
      "Epoch 17/200\n",
      "8/8 [==============================] - 0s 4ms/step - loss: 0.4560 - val_loss: 0.4500\n",
      "Epoch 18/200\n",
      "8/8 [==============================] - 0s 4ms/step - loss: 0.4463 - val_loss: 0.4408\n",
      "Epoch 19/200\n",
      "8/8 [==============================] - 0s 4ms/step - loss: 0.4368 - val_loss: 0.4330\n",
      "Epoch 20/200\n",
      "8/8 [==============================] - 0s 4ms/step - loss: 0.4285 - val_loss: 0.4255\n",
      "Epoch 21/200\n",
      "8/8 [==============================] - 0s 4ms/step - loss: 0.4204 - val_loss: 0.4190\n",
      "Epoch 22/200\n",
      "8/8 [==============================] - 0s 4ms/step - loss: 0.4126 - val_loss: 0.4126\n",
      "Epoch 23/200\n",
      "8/8 [==============================] - 0s 4ms/step - loss: 0.4059 - val_loss: 0.4059\n",
      "Epoch 24/200\n",
      "8/8 [==============================] - 0s 4ms/step - loss: 0.3987 - val_loss: 0.4005\n",
      "Epoch 25/200\n",
      "8/8 [==============================] - 0s 4ms/step - loss: 0.3921 - val_loss: 0.3954\n",
      "Epoch 26/200\n",
      "8/8 [==============================] - 0s 4ms/step - loss: 0.3861 - val_loss: 0.3905\n",
      "Epoch 27/200\n",
      "8/8 [==============================] - 0s 4ms/step - loss: 0.3796 - val_loss: 0.3850\n",
      "Epoch 28/200\n",
      "8/8 [==============================] - 0s 4ms/step - loss: 0.3730 - val_loss: 0.3801\n",
      "Epoch 29/200\n",
      "8/8 [==============================] - 0s 4ms/step - loss: 0.3669 - val_loss: 0.3750\n",
      "Epoch 30/200\n",
      "8/8 [==============================] - 0s 4ms/step - loss: 0.3608 - val_loss: 0.3703\n",
      "Epoch 31/200\n",
      "8/8 [==============================] - 0s 4ms/step - loss: 0.3548 - val_loss: 0.3657\n",
      "Epoch 32/200\n",
      "8/8 [==============================] - 0s 4ms/step - loss: 0.3490 - val_loss: 0.3609\n",
      "Epoch 33/200\n",
      "8/8 [==============================] - 0s 4ms/step - loss: 0.3438 - val_loss: 0.3565\n",
      "Epoch 34/200\n",
      "8/8 [==============================] - 0s 4ms/step - loss: 0.3386 - val_loss: 0.3540\n",
      "Epoch 35/200\n",
      "8/8 [==============================] - 0s 4ms/step - loss: 0.3339 - val_loss: 0.3499\n",
      "Epoch 36/200\n",
      "8/8 [==============================] - 0s 4ms/step - loss: 0.3293 - val_loss: 0.3454\n",
      "Epoch 37/200\n",
      "8/8 [==============================] - 0s 4ms/step - loss: 0.3243 - val_loss: 0.3426\n",
      "Epoch 38/200\n",
      "8/8 [==============================] - 0s 4ms/step - loss: 0.3197 - val_loss: 0.3394\n",
      "Epoch 39/200\n",
      "8/8 [==============================] - 0s 4ms/step - loss: 0.3158 - val_loss: 0.3365\n",
      "Epoch 40/200\n",
      "8/8 [==============================] - 0s 4ms/step - loss: 0.3112 - val_loss: 0.3331\n",
      "Epoch 41/200\n",
      "8/8 [==============================] - 0s 4ms/step - loss: 0.3065 - val_loss: 0.3294\n",
      "Epoch 42/200\n",
      "8/8 [==============================] - 0s 4ms/step - loss: 0.3022 - val_loss: 0.3258\n",
      "Epoch 43/200\n",
      "8/8 [==============================] - 0s 4ms/step - loss: 0.2981 - val_loss: 0.3227\n",
      "Epoch 44/200\n",
      "8/8 [==============================] - 0s 4ms/step - loss: 0.2941 - val_loss: 0.3197\n",
      "Epoch 45/200\n",
      "8/8 [==============================] - 0s 4ms/step - loss: 0.2901 - val_loss: 0.3168\n",
      "Epoch 46/200\n",
      "8/8 [==============================] - 0s 6ms/step - loss: 0.2863 - val_loss: 0.3142\n",
      "Epoch 47/200\n",
      "8/8 [==============================] - 0s 4ms/step - loss: 0.2824 - val_loss: 0.3112\n",
      "Epoch 48/200\n",
      "8/8 [==============================] - 0s 4ms/step - loss: 0.2786 - val_loss: 0.3089\n",
      "Epoch 49/200\n",
      "8/8 [==============================] - 0s 4ms/step - loss: 0.2752 - val_loss: 0.3064\n",
      "Epoch 50/200\n",
      "8/8 [==============================] - 0s 4ms/step - loss: 0.2717 - val_loss: 0.3036\n",
      "Epoch 51/200\n",
      "8/8 [==============================] - 0s 4ms/step - loss: 0.2681 - val_loss: 0.3009\n",
      "Epoch 52/200\n",
      "8/8 [==============================] - 0s 4ms/step - loss: 0.2650 - val_loss: 0.2984\n",
      "Epoch 53/200\n",
      "8/8 [==============================] - 0s 4ms/step - loss: 0.2616 - val_loss: 0.2956\n",
      "Epoch 54/200\n",
      "8/8 [==============================] - 0s 4ms/step - loss: 0.2583 - val_loss: 0.2935\n",
      "Epoch 55/200\n",
      "8/8 [==============================] - 0s 4ms/step - loss: 0.2553 - val_loss: 0.2913\n",
      "Epoch 56/200\n",
      "8/8 [==============================] - 0s 4ms/step - loss: 0.2521 - val_loss: 0.2885\n",
      "Epoch 57/200\n",
      "8/8 [==============================] - 0s 4ms/step - loss: 0.2492 - val_loss: 0.2865\n",
      "Epoch 58/200\n",
      "8/8 [==============================] - 0s 4ms/step - loss: 0.2466 - val_loss: 0.2846\n",
      "Epoch 59/200\n",
      "8/8 [==============================] - 0s 4ms/step - loss: 0.2438 - val_loss: 0.2828\n",
      "Epoch 60/200\n",
      "8/8 [==============================] - 0s 4ms/step - loss: 0.2408 - val_loss: 0.2813\n",
      "Epoch 61/200\n",
      "8/8 [==============================] - 0s 4ms/step - loss: 0.2381 - val_loss: 0.2797\n",
      "Epoch 62/200\n",
      "8/8 [==============================] - 0s 4ms/step - loss: 0.2353 - val_loss: 0.2774\n",
      "Epoch 63/200\n",
      "8/8 [==============================] - 0s 4ms/step - loss: 0.2327 - val_loss: 0.2759\n",
      "Epoch 64/200\n",
      "8/8 [==============================] - 0s 4ms/step - loss: 0.2300 - val_loss: 0.2740\n",
      "Epoch 65/200\n",
      "8/8 [==============================] - 0s 4ms/step - loss: 0.2275 - val_loss: 0.2720\n",
      "Epoch 66/200\n",
      "8/8 [==============================] - 0s 4ms/step - loss: 0.2251 - val_loss: 0.2703\n",
      "Epoch 67/200\n",
      "8/8 [==============================] - 0s 4ms/step - loss: 0.2226 - val_loss: 0.2682\n",
      "Epoch 68/200\n",
      "8/8 [==============================] - 0s 4ms/step - loss: 0.2200 - val_loss: 0.2664\n",
      "Epoch 69/200\n",
      "8/8 [==============================] - 0s 4ms/step - loss: 0.2176 - val_loss: 0.2650\n",
      "Epoch 70/200\n",
      "8/8 [==============================] - 0s 4ms/step - loss: 0.2154 - val_loss: 0.2631\n",
      "Epoch 71/200\n",
      "8/8 [==============================] - 0s 4ms/step - loss: 0.2133 - val_loss: 0.2617\n",
      "Epoch 72/200\n",
      "8/8 [==============================] - 0s 4ms/step - loss: 0.2113 - val_loss: 0.2606\n",
      "Epoch 73/200\n",
      "8/8 [==============================] - 0s 4ms/step - loss: 0.2089 - val_loss: 0.2594\n",
      "Epoch 74/200\n",
      "8/8 [==============================] - 0s 4ms/step - loss: 0.2067 - val_loss: 0.2580\n",
      "Epoch 75/200\n",
      "8/8 [==============================] - 0s 4ms/step - loss: 0.2045 - val_loss: 0.2562\n",
      "Epoch 76/200\n",
      "8/8 [==============================] - 0s 4ms/step - loss: 0.2025 - val_loss: 0.2546\n",
      "Epoch 77/200\n",
      "8/8 [==============================] - 0s 4ms/step - loss: 0.2003 - val_loss: 0.2531\n",
      "Epoch 78/200\n",
      "8/8 [==============================] - 0s 4ms/step - loss: 0.1985 - val_loss: 0.2518\n",
      "Epoch 79/200\n",
      "8/8 [==============================] - 0s 4ms/step - loss: 0.1967 - val_loss: 0.2506\n",
      "Epoch 80/200\n",
      "8/8 [==============================] - 0s 4ms/step - loss: 0.1943 - val_loss: 0.2501\n",
      "Epoch 81/200\n",
      "8/8 [==============================] - 0s 4ms/step - loss: 0.1925 - val_loss: 0.2494\n",
      "Epoch 82/200\n",
      "8/8 [==============================] - 0s 4ms/step - loss: 0.1907 - val_loss: 0.2484\n",
      "Epoch 83/200\n",
      "8/8 [==============================] - 0s 4ms/step - loss: 0.1891 - val_loss: 0.2489\n",
      "Epoch 84/200\n",
      "8/8 [==============================] - 0s 4ms/step - loss: 0.1877 - val_loss: 0.2483\n",
      "Epoch 85/200\n",
      "8/8 [==============================] - 0s 4ms/step - loss: 0.1850 - val_loss: 0.2465\n",
      "Epoch 86/200\n",
      "8/8 [==============================] - 0s 4ms/step - loss: 0.1834 - val_loss: 0.2452\n",
      "Epoch 87/200\n",
      "8/8 [==============================] - 0s 4ms/step - loss: 0.1815 - val_loss: 0.2444\n",
      "Epoch 88/200\n",
      "8/8 [==============================] - 0s 4ms/step - loss: 0.1798 - val_loss: 0.2428\n",
      "Epoch 89/200\n",
      "8/8 [==============================] - 0s 4ms/step - loss: 0.1782 - val_loss: 0.2412\n",
      "Epoch 90/200\n",
      "8/8 [==============================] - 0s 4ms/step - loss: 0.1765 - val_loss: 0.2405\n",
      "Epoch 91/200\n",
      "8/8 [==============================] - 0s 4ms/step - loss: 0.1751 - val_loss: 0.2389\n",
      "Epoch 92/200\n",
      "8/8 [==============================] - 0s 4ms/step - loss: 0.1729 - val_loss: 0.2380\n",
      "Epoch 93/200\n",
      "8/8 [==============================] - 0s 4ms/step - loss: 0.1716 - val_loss: 0.2369\n",
      "Epoch 94/200\n",
      "8/8 [==============================] - 0s 4ms/step - loss: 0.1697 - val_loss: 0.2362\n",
      "Epoch 95/200\n",
      "8/8 [==============================] - 0s 4ms/step - loss: 0.1685 - val_loss: 0.2355\n",
      "Epoch 96/200\n",
      "8/8 [==============================] - 0s 4ms/step - loss: 0.1672 - val_loss: 0.2348\n",
      "Epoch 97/200\n",
      "8/8 [==============================] - 0s 4ms/step - loss: 0.1654 - val_loss: 0.2336\n",
      "Epoch 98/200\n",
      "8/8 [==============================] - 0s 4ms/step - loss: 0.1637 - val_loss: 0.2329\n",
      "Epoch 99/200\n",
      "8/8 [==============================] - 0s 4ms/step - loss: 0.1624 - val_loss: 0.2318\n",
      "Epoch 100/200\n",
      "8/8 [==============================] - 0s 4ms/step - loss: 0.1609 - val_loss: 0.2308\n",
      "Epoch 101/200\n",
      "8/8 [==============================] - 0s 4ms/step - loss: 0.1592 - val_loss: 0.2303\n",
      "Epoch 102/200\n",
      "8/8 [==============================] - 0s 4ms/step - loss: 0.1580 - val_loss: 0.2298\n",
      "Epoch 103/200\n",
      "8/8 [==============================] - 0s 4ms/step - loss: 0.1565 - val_loss: 0.2286\n",
      "Epoch 104/200\n",
      "8/8 [==============================] - 0s 4ms/step - loss: 0.1549 - val_loss: 0.2275\n",
      "Epoch 105/200\n",
      "8/8 [==============================] - 0s 4ms/step - loss: 0.1536 - val_loss: 0.2262\n",
      "Epoch 106/200\n",
      "8/8 [==============================] - 0s 4ms/step - loss: 0.1522 - val_loss: 0.2255\n",
      "Epoch 107/200\n",
      "8/8 [==============================] - 0s 4ms/step - loss: 0.1510 - val_loss: 0.2237\n",
      "Epoch 108/200\n",
      "8/8 [==============================] - 0s 4ms/step - loss: 0.1494 - val_loss: 0.2227\n",
      "Epoch 109/200\n",
      "8/8 [==============================] - 0s 4ms/step - loss: 0.1481 - val_loss: 0.2229\n",
      "Epoch 110/200\n",
      "8/8 [==============================] - 0s 4ms/step - loss: 0.1466 - val_loss: 0.2226\n",
      "Epoch 111/200\n",
      "8/8 [==============================] - 0s 4ms/step - loss: 0.1453 - val_loss: 0.2216\n",
      "Epoch 112/200\n",
      "8/8 [==============================] - 0s 4ms/step - loss: 0.1443 - val_loss: 0.2208\n",
      "Epoch 113/200\n",
      "8/8 [==============================] - 0s 4ms/step - loss: 0.1428 - val_loss: 0.2196\n",
      "Epoch 114/200\n",
      "8/8 [==============================] - 0s 4ms/step - loss: 0.1416 - val_loss: 0.2190\n",
      "Epoch 115/200\n",
      "8/8 [==============================] - 0s 4ms/step - loss: 0.1405 - val_loss: 0.2176\n",
      "Epoch 116/200\n",
      "8/8 [==============================] - 0s 4ms/step - loss: 0.1392 - val_loss: 0.2169\n",
      "Epoch 117/200\n",
      "8/8 [==============================] - 0s 4ms/step - loss: 0.1379 - val_loss: 0.2160\n",
      "Epoch 118/200\n",
      "8/8 [==============================] - 0s 4ms/step - loss: 0.1368 - val_loss: 0.2154\n",
      "Epoch 119/200\n",
      "8/8 [==============================] - 0s 4ms/step - loss: 0.1356 - val_loss: 0.2145\n",
      "Epoch 120/200\n",
      "8/8 [==============================] - 0s 4ms/step - loss: 0.1346 - val_loss: 0.2137\n",
      "Epoch 121/200\n",
      "8/8 [==============================] - 0s 4ms/step - loss: 0.1333 - val_loss: 0.2133\n",
      "Epoch 122/200\n",
      "8/8 [==============================] - 0s 4ms/step - loss: 0.1323 - val_loss: 0.2127\n",
      "Epoch 123/200\n",
      "8/8 [==============================] - 0s 4ms/step - loss: 0.1313 - val_loss: 0.2120\n",
      "Epoch 124/200\n",
      "8/8 [==============================] - 0s 4ms/step - loss: 0.1302 - val_loss: 0.2116\n",
      "Epoch 125/200\n",
      "8/8 [==============================] - 0s 4ms/step - loss: 0.1292 - val_loss: 0.2106\n",
      "Epoch 126/200\n",
      "8/8 [==============================] - 0s 4ms/step - loss: 0.1280 - val_loss: 0.2106\n",
      "Epoch 127/200\n",
      "8/8 [==============================] - 0s 4ms/step - loss: 0.1270 - val_loss: 0.2102\n",
      "Epoch 128/200\n",
      "8/8 [==============================] - 0s 4ms/step - loss: 0.1261 - val_loss: 0.2103\n",
      "Epoch 129/200\n",
      "8/8 [==============================] - 0s 4ms/step - loss: 0.1249 - val_loss: 0.2096\n",
      "Epoch 130/200\n",
      "8/8 [==============================] - 0s 4ms/step - loss: 0.1240 - val_loss: 0.2091\n",
      "Epoch 131/200\n",
      "8/8 [==============================] - 0s 4ms/step - loss: 0.1230 - val_loss: 0.2087\n",
      "Epoch 132/200\n",
      "8/8 [==============================] - 0s 4ms/step - loss: 0.1220 - val_loss: 0.2086\n",
      "Epoch 133/200\n",
      "8/8 [==============================] - 0s 4ms/step - loss: 0.1212 - val_loss: 0.2081\n",
      "Epoch 134/200\n",
      "8/8 [==============================] - 0s 5ms/step - loss: 0.1201 - val_loss: 0.2073\n",
      "Epoch 135/200\n",
      "8/8 [==============================] - 0s 4ms/step - loss: 0.1190 - val_loss: 0.2070\n",
      "Epoch 136/200\n",
      "8/8 [==============================] - 0s 4ms/step - loss: 0.1181 - val_loss: 0.2055\n",
      "Epoch 137/200\n",
      "8/8 [==============================] - 0s 4ms/step - loss: 0.1172 - val_loss: 0.2047\n",
      "Epoch 138/200\n",
      "8/8 [==============================] - 0s 4ms/step - loss: 0.1163 - val_loss: 0.2042\n",
      "Epoch 139/200\n",
      "8/8 [==============================] - 0s 4ms/step - loss: 0.1156 - val_loss: 0.2033\n",
      "Epoch 140/200\n",
      "8/8 [==============================] - 0s 4ms/step - loss: 0.1149 - val_loss: 0.2032\n",
      "Epoch 141/200\n",
      "8/8 [==============================] - 0s 4ms/step - loss: 0.1137 - val_loss: 0.2028\n",
      "Epoch 142/200\n",
      "8/8 [==============================] - 0s 4ms/step - loss: 0.1130 - val_loss: 0.2033\n",
      "Epoch 143/200\n",
      "8/8 [==============================] - 0s 4ms/step - loss: 0.1119 - val_loss: 0.2032\n",
      "Epoch 144/200\n",
      "8/8 [==============================] - 0s 4ms/step - loss: 0.1112 - val_loss: 0.2028\n",
      "Epoch 145/200\n",
      "8/8 [==============================] - 0s 4ms/step - loss: 0.1103 - val_loss: 0.2030\n",
      "Epoch 146/200\n",
      "8/8 [==============================] - 0s 4ms/step - loss: 0.1097 - val_loss: 0.2030\n",
      "Epoch 147/200\n",
      "8/8 [==============================] - 0s 4ms/step - loss: 0.1086 - val_loss: 0.2024\n",
      "Epoch 148/200\n",
      "8/8 [==============================] - 0s 4ms/step - loss: 0.1076 - val_loss: 0.2026\n",
      "Epoch 149/200\n",
      "8/8 [==============================] - 0s 4ms/step - loss: 0.1072 - val_loss: 0.2026\n",
      "Epoch 150/200\n",
      "8/8 [==============================] - 0s 4ms/step - loss: 0.1062 - val_loss: 0.2025\n",
      "Epoch 151/200\n",
      "8/8 [==============================] - 0s 4ms/step - loss: 0.1054 - val_loss: 0.2020\n",
      "Epoch 152/200\n",
      "8/8 [==============================] - 0s 4ms/step - loss: 0.1047 - val_loss: 0.2020\n",
      "Epoch 153/200\n",
      "8/8 [==============================] - 0s 4ms/step - loss: 0.1040 - val_loss: 0.2020\n",
      "Epoch 154/200\n",
      "8/8 [==============================] - 0s 4ms/step - loss: 0.1036 - val_loss: 0.2017\n",
      "Epoch 155/200\n",
      "8/8 [==============================] - 0s 4ms/step - loss: 0.1026 - val_loss: 0.2009\n",
      "Epoch 156/200\n",
      "8/8 [==============================] - 0s 4ms/step - loss: 0.1020 - val_loss: 0.2004\n",
      "Epoch 157/200\n",
      "8/8 [==============================] - 0s 4ms/step - loss: 0.1012 - val_loss: 0.1996\n",
      "Epoch 158/200\n",
      "8/8 [==============================] - 0s 4ms/step - loss: 0.1008 - val_loss: 0.1990\n",
      "Epoch 159/200\n",
      "8/8 [==============================] - 0s 4ms/step - loss: 0.0999 - val_loss: 0.1991\n",
      "Epoch 160/200\n",
      "8/8 [==============================] - 0s 4ms/step - loss: 0.0989 - val_loss: 0.1984\n",
      "Epoch 161/200\n",
      "8/8 [==============================] - 0s 4ms/step - loss: 0.0983 - val_loss: 0.1978\n",
      "Epoch 162/200\n",
      "8/8 [==============================] - 0s 4ms/step - loss: 0.0977 - val_loss: 0.1978\n",
      "Epoch 163/200\n",
      "8/8 [==============================] - 0s 4ms/step - loss: 0.0970 - val_loss: 0.1976\n",
      "Epoch 164/200\n",
      "8/8 [==============================] - 0s 4ms/step - loss: 0.0962 - val_loss: 0.1972\n",
      "Epoch 165/200\n",
      "8/8 [==============================] - 0s 4ms/step - loss: 0.0956 - val_loss: 0.1965\n",
      "Epoch 166/200\n",
      "8/8 [==============================] - 0s 4ms/step - loss: 0.0950 - val_loss: 0.1961\n",
      "Epoch 167/200\n",
      "8/8 [==============================] - 0s 4ms/step - loss: 0.0945 - val_loss: 0.1953\n",
      "Epoch 168/200\n",
      "8/8 [==============================] - 0s 4ms/step - loss: 0.0937 - val_loss: 0.1952\n",
      "Epoch 169/200\n",
      "8/8 [==============================] - 0s 4ms/step - loss: 0.0931 - val_loss: 0.1953\n",
      "Epoch 170/200\n",
      "8/8 [==============================] - 0s 4ms/step - loss: 0.0925 - val_loss: 0.1959\n",
      "Epoch 171/200\n",
      "8/8 [==============================] - 0s 4ms/step - loss: 0.0918 - val_loss: 0.1954\n",
      "Epoch 172/200\n",
      "8/8 [==============================] - 0s 4ms/step - loss: 0.0912 - val_loss: 0.1955\n",
      "Epoch 173/200\n",
      "8/8 [==============================] - 0s 4ms/step - loss: 0.0906 - val_loss: 0.1960\n",
      "Epoch 174/200\n",
      "8/8 [==============================] - 0s 4ms/step - loss: 0.0900 - val_loss: 0.1961\n",
      "Epoch 175/200\n",
      "8/8 [==============================] - 0s 4ms/step - loss: 0.0895 - val_loss: 0.1962\n",
      "Epoch 176/200\n",
      "8/8 [==============================] - 0s 4ms/step - loss: 0.0890 - val_loss: 0.1962\n",
      "Epoch 177/200\n",
      "8/8 [==============================] - 0s 4ms/step - loss: 0.0884 - val_loss: 0.1964\n",
      "Epoch 178/200\n",
      "8/8 [==============================] - 0s 4ms/step - loss: 0.0878 - val_loss: 0.1963\n",
      "Epoch 179/200\n",
      "8/8 [==============================] - 0s 4ms/step - loss: 0.0872 - val_loss: 0.1959\n",
      "Epoch 180/200\n",
      "8/8 [==============================] - 0s 4ms/step - loss: 0.0866 - val_loss: 0.1958\n",
      "Epoch 181/200\n",
      "8/8 [==============================] - 0s 4ms/step - loss: 0.0863 - val_loss: 0.1948\n",
      "Epoch 182/200\n",
      "8/8 [==============================] - 0s 4ms/step - loss: 0.0856 - val_loss: 0.1949\n",
      "Epoch 183/200\n",
      "8/8 [==============================] - 0s 4ms/step - loss: 0.0849 - val_loss: 0.1946\n",
      "Epoch 184/200\n",
      "8/8 [==============================] - 0s 4ms/step - loss: 0.0844 - val_loss: 0.1933\n",
      "Epoch 185/200\n",
      "8/8 [==============================] - 0s 4ms/step - loss: 0.0839 - val_loss: 0.1929\n",
      "Epoch 186/200\n",
      "8/8 [==============================] - 0s 5ms/step - loss: 0.0833 - val_loss: 0.1928\n",
      "Epoch 187/200\n",
      "8/8 [==============================] - 0s 4ms/step - loss: 0.0828 - val_loss: 0.1928\n",
      "Epoch 188/200\n",
      "8/8 [==============================] - 0s 4ms/step - loss: 0.0823 - val_loss: 0.1929\n",
      "Epoch 189/200\n",
      "8/8 [==============================] - 0s 4ms/step - loss: 0.0817 - val_loss: 0.1931\n",
      "Epoch 190/200\n",
      "8/8 [==============================] - 0s 4ms/step - loss: 0.0813 - val_loss: 0.1931\n",
      "Epoch 191/200\n",
      "8/8 [==============================] - 0s 4ms/step - loss: 0.0807 - val_loss: 0.1926\n",
      "Epoch 192/200\n",
      "8/8 [==============================] - 0s 4ms/step - loss: 0.0802 - val_loss: 0.1929\n",
      "Epoch 193/200\n",
      "8/8 [==============================] - 0s 4ms/step - loss: 0.0798 - val_loss: 0.1930\n",
      "Epoch 194/200\n",
      "8/8 [==============================] - 0s 4ms/step - loss: 0.0793 - val_loss: 0.1929\n",
      "Epoch 195/200\n",
      "8/8 [==============================] - 0s 4ms/step - loss: 0.0788 - val_loss: 0.1931\n",
      "Epoch 196/200\n",
      "8/8 [==============================] - 0s 4ms/step - loss: 0.0783 - val_loss: 0.1920\n",
      "Epoch 197/200\n",
      "8/8 [==============================] - 0s 4ms/step - loss: 0.0778 - val_loss: 0.1918\n",
      "Epoch 198/200\n",
      "8/8 [==============================] - 0s 4ms/step - loss: 0.0773 - val_loss: 0.1924\n",
      "Epoch 199/200\n",
      "8/8 [==============================] - 0s 4ms/step - loss: 0.0768 - val_loss: 0.1924\n",
      "Epoch 200/200\n",
      "8/8 [==============================] - 0s 4ms/step - loss: 0.0764 - val_loss: 0.1923\n"
     ]
    }
   ],
   "source": [
    "# define model\n",
    "model = Sequential()\n",
    "model.add(Dense(10, activation='relu', kernel_initializer='he_normal', input_shape=(n_features,)))\n",
    "model.add(Dense(1, activation='sigmoid'))\n",
    "# compile the model\n",
    "model.compile(optimizer='adam', loss='binary_crossentropy')\n",
    "# fit the model\n",
    "history = model.fit(X_train, y_train, epochs=200, batch_size=32, verbose=1, validation_data=(X_test,y_test))"
   ]
  },
  {
   "cell_type": "code",
   "execution_count": 190,
   "metadata": {},
   "outputs": [
    {
     "name": "stdout",
     "output_type": "stream",
     "text": [
      "4/4 [==============================] - 0s 1ms/step\n",
      "Accuracy: 0.336\n"
     ]
    }
   ],
   "source": [
    "# predict test set\n",
    "yhat = model.predict(X_test)\n",
    "classes = np.argmax(yhat,axis=1)\n",
    "# evaluate predictions\n",
    "score = accuracy_score(y_test, classes)\n",
    "print('Accuracy: %.3f' % score)"
   ]
  },
  {
   "cell_type": "code",
   "execution_count": null,
   "metadata": {},
   "outputs": [],
   "source": []
  },
  {
   "cell_type": "code",
   "execution_count": 191,
   "metadata": {},
   "outputs": [
    {
     "data": {
      "image/png": "[encoded data removed]",
      "text/plain": [
       "<Figure size 640x480 with 1 Axes>"
      ]
     },
     "metadata": {},
     "output_type": "display_data"
    }
   ],
   "source": [
    "# plot learning curves\n",
    "pyplot.title('Learning Curves')\n",
    "pyplot.xlabel('Epoch')\n",
    "pyplot.ylabel('Cross Entropy')\n",
    "pyplot.plot(history.history['loss'], label='train')\n",
    "pyplot.plot(history.history['val_loss'], label='val')\n",
    "pyplot.legend()\n",
    "pyplot.show()"
   ]
  },
  {
   "cell_type": "markdown",
   "metadata": {},
   "source": [
    "## MLP for Multiclass Classification"
   ]
  },
  {
   "cell_type": "code",
   "execution_count": 192,
   "metadata": {},
   "outputs": [],
   "source": [
    "# mlp for multiclass classification\n",
    "from numpy import argmax\n",
    "from pandas import read_csv\n",
    "from sklearn.model_selection import train_test_split\n",
    "from sklearn.preprocessing import LabelEncoder\n",
    "from tensorflow.keras import Sequential\n",
    "from tensorflow.keras.layers import Dense"
   ]
  },
  {
   "cell_type": "code",
   "execution_count": 193,
   "metadata": {},
   "outputs": [],
   "source": [
    "# load the dataset\n",
    "path = 'https://raw.githubusercontent.com/jbrownlee/Datasets/master/iris.csv'\n",
    "df = read_csv(path, header=None)\n",
    "# split into input and output columns\n",
    "X, y = df.values[:, :-1], df.values[:, -1]\n",
    "# ensure all data are floating point values\n",
    "X = X.astype('float32')\n",
    "# encode strings to integer\n",
    "y = LabelEncoder().fit_transform(y)\n"
   ]
  },
  {
   "cell_type": "code",
   "execution_count": 194,
   "metadata": {},
   "outputs": [
    {
     "name": "stdout",
     "output_type": "stream",
     "text": [
      "(100, 4) (50, 4) (100,) (50,)\n"
     ]
    }
   ],
   "source": [
    "# split into train and test datasets\n",
    "X_train, X_test, y_train, y_test = train_test_split(X, y, test_size=0.33)\n",
    "print(X_train.shape, X_test.shape, y_train.shape, y_test.shape)\n",
    "# determine the number of input features\n",
    "n_features = X_train.shape[1]\n",
    "\n"
   ]
  },
  {
   "cell_type": "code",
   "execution_count": 195,
   "metadata": {},
   "outputs": [],
   "source": [
    "# define model\n",
    "model = Sequential()\n",
    "model.add(Dense(10, activation='relu', kernel_initializer='he_normal', input_shape=(n_features,)))\n",
    "model.add(Dense(8, activation='relu', kernel_initializer='he_normal'))\n",
    "model.add(Dense(3, activation='softmax'))"
   ]
  },
  {
   "cell_type": "code",
   "execution_count": 196,
   "metadata": {},
   "outputs": [
    {
     "name": "stdout",
     "output_type": "stream",
     "text": [
      "Test Accuracy: 0.960\n"
     ]
    }
   ],
   "source": [
    "# compile the model\n",
    "model.compile(optimizer='adam', loss='sparse_categorical_crossentropy', metrics=['accuracy'])\n",
    "# fit the model\n",
    "model.fit(X_train, y_train, epochs=150, batch_size=32, verbose=0)\n",
    "# evaluate the model\n",
    "loss, acc = model.evaluate(X_test, y_test, verbose=0)\n",
    "print('Test Accuracy: %.3f' % acc)\n"
   ]
  },
  {
   "cell_type": "code",
   "execution_count": 197,
   "metadata": {},
   "outputs": [
    {
     "name": "stdout",
     "output_type": "stream",
     "text": [
      "1/1 [==============================] - 0s 60ms/step\n",
      "Predicted: [[0.9742587  0.01983427 0.00590702]] (class=0)\n"
     ]
    }
   ],
   "source": [
    "# make a prediction\n",
    "row = [5.1,3.5,1.4,0.2]\n",
    "yhat = model.predict([row])\n",
    "print('Predicted: %s (class=%d)' % (yhat, argmax(yhat)))"
   ]
  },
  {
   "cell_type": "markdown",
   "metadata": {},
   "source": [
    "## MLP for Regression"
   ]
  },
  {
   "cell_type": "code",
   "execution_count": 198,
   "metadata": {},
   "outputs": [],
   "source": [
    "# mlp for regression\n",
    "from numpy import sqrt\n",
    "from pandas import read_csv\n",
    "from sklearn.model_selection import train_test_split\n",
    "from tensorflow.keras import Sequential\n",
    "from tensorflow.keras.layers import Dense"
   ]
  },
  {
   "cell_type": "code",
   "execution_count": 199,
   "metadata": {},
   "outputs": [
    {
     "name": "stdout",
     "output_type": "stream",
     "text": [
      "(339, 13) (167, 13) (339,) (167,)\n"
     ]
    }
   ],
   "source": [
    "# load the dataset\n",
    "path = 'https://raw.githubusercontent.com/jbrownlee/Datasets/master/housing.csv'\n",
    "df = read_csv(path, header=None)\n",
    "# split into input and output columns\n",
    "X, y = df.values[:, :-1], df.values[:, -1]\n",
    "# split into train and test datasets\n",
    "X_train, X_test, y_train, y_test = train_test_split(X, y, test_size=0.33)\n",
    "print(X_train.shape, X_test.shape, y_train.shape, y_test.shape)"
   ]
  },
  {
   "cell_type": "code",
   "execution_count": 200,
   "metadata": {},
   "outputs": [],
   "source": [
    "# determine the number of input features\n",
    "n_features = X_train.shape[1]"
   ]
  },
  {
   "cell_type": "code",
   "execution_count": 201,
   "metadata": {},
   "outputs": [
    {
     "data": {
      "text/plain": [
       "<keras.callbacks.History at 0x7f8c29230340>"
      ]
     },
     "execution_count": 201,
     "metadata": {},
     "output_type": "execute_result"
    }
   ],
   "source": [
    "# define model\n",
    "model = Sequential()\n",
    "model.add(Dense(10, activation='relu', kernel_initializer='he_normal', input_shape=(n_features,)))\n",
    "model.add(Dense(8, activation='relu', kernel_initializer='he_normal'))\n",
    "model.add(Dense(1))\n",
    "# compile the model\n",
    "model.compile(optimizer='adam', loss='mse')\n",
    "# fit the model\n",
    "model.fit(X_train, y_train, epochs=150, batch_size=32, verbose=0)"
   ]
  },
  {
   "cell_type": "code",
   "execution_count": 202,
   "metadata": {},
   "outputs": [
    {
     "name": "stdout",
     "output_type": "stream",
     "text": [
      "MSE: 62.265, RMSE: 7.891\n",
      "1/1 [==============================] - 0s 57ms/step\n",
      "Predicted: 29.581\n"
     ]
    }
   ],
   "source": [
    "# evaluate the model\n",
    "error = model.evaluate(X_test, y_test, verbose=0)\n",
    "print('MSE: %.3f, RMSE: %.3f' % (error, sqrt(error)))\n",
    "# make a prediction\n",
    "row = [0.00632,18.00,2.310,0,0.5380,6.5750,65.20,4.0900,1,296.0,15.30,396.90,4.98]\n",
    "yhat = model.predict([row])\n",
    "print('Predicted: %.3f' % yhat)"
   ]
  },
  {
   "attachments": {},
   "cell_type": "markdown",
   "metadata": {},
   "source": [
    "## How to Visualize a Deep Learning Model\n",
    "Model Text Description"
   ]
  },
  {
   "cell_type": "code",
   "execution_count": 221,
   "metadata": {},
   "outputs": [
    {
     "name": "stdout",
     "output_type": "stream",
     "text": [
      "Model: \"sequential_58\"\n",
      "_________________________________________________________________\n",
      " Layer (type)                Output Shape              Param #   \n",
      "=================================================================\n",
      " dense_140 (Dense)           (None, 10)                90        \n",
      "                                                                 \n",
      " dense_141 (Dense)           (None, 8)                 88        \n",
      "                                                                 \n",
      " dense_142 (Dense)           (None, 1)                 9         \n",
      "                                                                 \n",
      "=================================================================\n",
      "Total params: 187\n",
      "Trainable params: 187\n",
      "Non-trainable params: 0\n",
      "_________________________________________________________________\n"
     ]
    }
   ],
   "source": [
    "# example of summarizing a model\n",
    "from tensorflow.keras import Sequential\n",
    "from tensorflow.keras.layers import Dense\n",
    "# define model\n",
    "model = Sequential()\n",
    "model.add(Dense(10, activation='relu', kernel_initializer='he_normal', input_shape=(8,)))\n",
    "model.add(Dense(8, activation='relu', kernel_initializer='he_normal'))\n",
    "model.add(Dense(1, activation='sigmoid'))\n",
    "# summarize the model\n",
    "model.summary()"
   ]
  },
  {
   "cell_type": "markdown",
   "metadata": {},
   "source": [
    "Model Architecture Plot"
   ]
  },
  {
   "cell_type": "code",
   "execution_count": 204,
   "metadata": {},
   "outputs": [
    {
     "name": "stdout",
     "output_type": "stream",
     "text": [
      "You must install pydot (`pip install pydot`) and install graphviz (see instructions at https://graphviz.gitlab.io/download/) for plot_model to work.\n"
     ]
    }
   ],
   "source": [
    "# example of plotting a model\n",
    "from tensorflow.keras import Sequential\n",
    "from tensorflow.keras.layers import Dense\n",
    "from tensorflow.keras.utils import plot_model\n",
    "# define model\n",
    "model = Sequential()\n",
    "model.add(Dense(10, activation='relu', kernel_initializer='he_normal', input_shape=(8,)))\n",
    "model.add(Dense(8, activation='relu', kernel_initializer='he_normal'))\n",
    "model.add(Dense(1, activation='sigmoid'))\n",
    "# summarize the model\n",
    "plot_model(model, 'model.png', show_shapes=True)"
   ]
  },
  {
   "cell_type": "markdown",
   "metadata": {},
   "source": [
    "## How to Plot Model Learning Curves"
   ]
  },
  {
   "cell_type": "code",
   "execution_count": 205,
   "metadata": {},
   "outputs": [
    {
     "data": {
      "image/png": "[encoded data removed]",
      "text/plain": [
       "<Figure size 640x480 with 1 Axes>"
      ]
     },
     "metadata": {},
     "output_type": "display_data"
    }
   ],
   "source": [
    "# example of plotting learning curves\n",
    "from sklearn.datasets import make_classification\n",
    "from tensorflow.keras import Sequential\n",
    "from tensorflow.keras.layers import Dense\n",
    "from tensorflow.keras.optimizers import SGD\n",
    "from matplotlib import pyplot\n",
    "# create the dataset\n",
    "X, y = make_classification(n_samples=1000, n_classes=2, random_state=1)\n",
    "# determine the number of input features\n",
    "n_features = X.shape[1]\n",
    "# define model\n",
    "model = Sequential()\n",
    "model.add(Dense(10, activation='relu', kernel_initializer='he_normal', input_shape=(n_features,)))\n",
    "model.add(Dense(1, activation='sigmoid'))\n",
    "# compile the model\n",
    "sgd = SGD(learning_rate=0.001, momentum=0.8)\n",
    "model.compile(optimizer=sgd, loss='binary_crossentropy')\n",
    "# fit the model\n",
    "history = model.fit(X, y, epochs=100, batch_size=32, verbose=0, validation_split=0.3)\n",
    "# plot learning curves\n",
    "pyplot.title('Learning Curves')\n",
    "pyplot.xlabel('Epoch')\n",
    "pyplot.ylabel('Cross Entropy')\n",
    "pyplot.plot(history.history['loss'], label='train')\n",
    "pyplot.plot(history.history['val_loss'], label='val')\n",
    "pyplot.legend()\n",
    "pyplot.show()"
   ]
  },
  {
   "cell_type": "markdown",
   "metadata": {},
   "source": [
    "## How to Save and Load Your Model"
   ]
  },
  {
   "cell_type": "code",
   "execution_count": 206,
   "metadata": {},
   "outputs": [],
   "source": [
    "# example of saving a fit model\n",
    "from sklearn.datasets import make_classification\n",
    "from tensorflow import keras\n",
    "from keras import Sequential\n",
    "from keras.layers import Dense\n",
    "from keras.optimizers import SGD\n",
    "# create the dataset\n",
    "X, y = make_classification(n_samples=1000, n_features=4, n_classes=2, random_state=1)\n",
    "# determine the number of input features\n",
    "n_features = X.shape[1]\n",
    "# define model\n",
    "model = Sequential()\n",
    "model.add(Dense(10, activation='relu', kernel_initializer='he_normal', input_shape=(n_features,)))\n",
    "model.add(Dense(1, activation='sigmoid'))\n",
    "# compile the model\n",
    "sgd = SGD(learning_rate=0.001, momentum=0.8)\n",
    "model.compile(optimizer=sgd, loss='binary_crossentropy')\n",
    "# fit the model\n",
    "model.fit(X, y, epochs=100, batch_size=32, verbose=0, validation_split=0.3)\n",
    "# save model to file\n",
    "model.save('model.h5')"
   ]
  },
  {
   "cell_type": "code",
   "execution_count": 207,
   "metadata": {},
   "outputs": [
    {
     "name": "stdout",
     "output_type": "stream",
     "text": [
      "1/1 [==============================] - 0s 70ms/step\n",
      "Predicted: 0.869\n"
     ]
    }
   ],
   "source": [
    "# example of loading a saved model\n",
    "from sklearn.datasets import make_classification\n",
    "from tensorflow.keras.models import load_model\n",
    "# create the dataset\n",
    "X, y = make_classification(n_samples=1000, n_features=4, n_classes=2, random_state=1)\n",
    "# load the model from file\n",
    "model = load_model('model.h5')\n",
    "# make a prediction\n",
    "row = [1.91518414, 1.14995454, -1.52847073, 0.79430654]\n",
    "yhat = model.predict([row])\n",
    "print('Predicted: %.3f' % yhat[0])"
   ]
  },
  {
   "cell_type": "markdown",
   "metadata": {},
   "source": [
    "## How to Reduce Overfitting with Dropout"
   ]
  },
  {
   "cell_type": "code",
   "execution_count": 208,
   "metadata": {},
   "outputs": [],
   "source": [
    "# example of using dropout\n",
    "from sklearn.datasets import make_classification\n",
    "from tensorflow import keras\n",
    "from keras import Sequential\n",
    "from keras.layers import Dense\n",
    "from keras.layers import Dropout\n",
    "from matplotlib import pyplot"
   ]
  },
  {
   "cell_type": "code",
   "execution_count": 209,
   "metadata": {},
   "outputs": [],
   "source": [
    "# create the dataset\n",
    "X, y = make_classification(n_samples=1000, n_classes=2, random_state=1)\n",
    "# determine the number of input features\n",
    "n_features = X.shape[1]"
   ]
  },
  {
   "cell_type": "code",
   "execution_count": 210,
   "metadata": {},
   "outputs": [],
   "source": [
    "# define model\n",
    "model = Sequential()\n",
    "model.add(Dense(10, activation='relu', kernel_initializer='he_normal', input_shape=(n_features,)))\n",
    "model.add(Dropout(0.5))\n",
    "model.add(Dense(1, activation='sigmoid'))\n",
    "# compile the model\n",
    "model.compile(optimizer='adam', loss='binary_crossentropy')\n",
    "# fit the model\n",
    "history = model.fit(X, y, epochs=100, batch_size=32, validation_split=0.3, verbose=0)"
   ]
  },
  {
   "cell_type": "code",
   "execution_count": 211,
   "metadata": {},
   "outputs": [
    {
     "data": {
      "image/png": "[encoded data removed]",
      "text/plain": [
       "<Figure size 640x480 with 1 Axes>"
      ]
     },
     "metadata": {},
     "output_type": "display_data"
    }
   ],
   "source": [
    "# plot learning curves\n",
    "pyplot.title('Learning Curves')\n",
    "pyplot.xlabel('Epoch')\n",
    "pyplot.ylabel('Cross Entropy')\n",
    "pyplot.plot(history.history['loss'], label='train')\n",
    "pyplot.plot(history.history['val_loss'], label='val')\n",
    "pyplot.legend()\n",
    "pyplot.show()"
   ]
  },
  {
   "cell_type": "markdown",
   "metadata": {},
   "source": [
    "## How to Accelerate Training with Batch Normalization"
   ]
  },
  {
   "cell_type": "code",
   "execution_count": 212,
   "metadata": {},
   "outputs": [],
   "source": [
    "# example of using batch normalization\n",
    "from sklearn.datasets import make_classification\n",
    "from tensorflow import keras\n",
    "from keras import Sequential\n",
    "from keras.layers import Dense, BatchNormalization\n",
    "from matplotlib import pyplot"
   ]
  },
  {
   "cell_type": "code",
   "execution_count": 213,
   "metadata": {},
   "outputs": [
    {
     "data": {
      "text/plain": [
       "<keras.callbacks.History at 0x7f8c2936f520>"
      ]
     },
     "execution_count": 213,
     "metadata": {},
     "output_type": "execute_result"
    }
   ],
   "source": [
    "# create the dataset\n",
    "X, y = make_classification(n_samples=1000, n_classes=2, random_state=1)\n",
    "# determine the number of input features\n",
    "n_features = X.shape[1]\n",
    "# define model\n",
    "model = Sequential()\n",
    "model.add(Dense(10, activation='relu', kernel_initializer='he_normal', input_shape=(n_features,)))\n",
    "model.add(BatchNormalization())\n",
    "model.add(Dense(1, activation='sigmoid'))\n",
    "# compile the model\n",
    "model.compile(optimizer='adam', loss='binary_crossentropy')\n",
    "# fit the model\n",
    "model.fit(X, y, epochs=100, batch_size=32, verbose=0)"
   ]
  },
  {
   "cell_type": "markdown",
   "metadata": {},
   "source": [
    "## How to Halt Training at the Right Time with Early Stopping"
   ]
  },
  {
   "cell_type": "code",
   "execution_count": 214,
   "metadata": {},
   "outputs": [],
   "source": [
    "# example of using early stopping\n",
    "from sklearn.datasets import make_classification\n",
    "from tensorflow.keras import Sequential\n",
    "from tensorflow.keras.layers import Dense\n",
    "from tensorflow.keras.callbacks import EarlyStopping\n",
    "# create the dataset\n",
    "X, y = make_classification(n_samples=1000, n_classes=2, random_state=1)\n",
    "# determine the number of input features\n",
    "n_features = X.shape[1]\n",
    "# define model\n",
    "model = Sequential()\n",
    "model.add(Dense(10, activation='relu', kernel_initializer='he_normal', input_shape=(n_features,)))\n",
    "model.add(Dense(1, activation='sigmoid'))\n",
    "# compile the model\n",
    "model.compile(optimizer='adam', loss='binary_crossentropy')\n",
    "# configure early stopping\n",
    "es = EarlyStopping(monitor='val_loss', patience=5)\n",
    "# fit the model\n",
    "history = model.fit(X, y, epochs=200, batch_size=32, verbose=0, validation_split=0.3, callbacks=[es])"
   ]
  },
  {
   "cell_type": "code",
   "execution_count": 215,
   "metadata": {},
   "outputs": [
    {
     "data": {
      "image/png": "[encoded data removed]",
      "text/plain": [
       "<Figure size 640x480 with 1 Axes>"
      ]
     },
     "metadata": {},
     "output_type": "display_data"
    }
   ],
   "source": [
    "# plot learning curves\n",
    "pyplot.title('Learning Curves')\n",
    "pyplot.xlabel('Epoch')\n",
    "pyplot.ylabel('Cross Entropy')\n",
    "pyplot.plot(history.history['loss'], label='train')\n",
    "pyplot.plot(history.history['val_loss'], label='val')\n",
    "pyplot.legend()\n",
    "pyplot.show()"
   ]
  },
  {
   "cell_type": "markdown",
   "metadata": {},
   "source": [
    "## pyTorch"
   ]
  },
  {
   "cell_type": "code",
   "execution_count": 216,
   "metadata": {},
   "outputs": [],
   "source": [
    "import pandas as pd\n",
    " \n",
    "# Read data\n",
    "data = pd.read_csv(\"sonar.csv\", header=None)\n",
    "X = data.iloc[:, 0:60]\n",
    "y = data.iloc[:, 60]"
   ]
  },
  {
   "cell_type": "code",
   "execution_count": 217,
   "metadata": {},
   "outputs": [],
   "source": [
    "\n",
    "from sklearn.preprocessing import LabelEncoder\n",
    " \n",
    "encoder = LabelEncoder()\n",
    "encoder.fit(y)\n",
    "y = encoder.transform(y)"
   ]
  },
  {
   "cell_type": "code",
   "execution_count": 218,
   "metadata": {},
   "outputs": [
    {
     "name": "stdout",
     "output_type": "stream",
     "text": [
      "['M' 'R']\n"
     ]
    }
   ],
   "source": [
    "\n",
    "print(encoder.classes_)"
   ]
  },
  {
   "cell_type": "code",
   "execution_count": 219,
   "metadata": {},
   "outputs": [
    {
     "name": "stdout",
     "output_type": "stream",
     "text": [
      "[1 1 1 1 1 1 1 1 1 1 1 1 1 1 1 1 1 1 1 1 1 1 1 1 1 1 1 1 1 1 1 1 1 1 1 1 1\n",
      " 1 1 1 1 1 1 1 1 1 1 1 1 1 1 1 1 1 1 1 1 1 1 1 1 1 1 1 1 1 1 1 1 1 1 1 1 1\n",
      " 1 1 1 1 1 1 1 1 1 1 1 1 1 1 1 1 1 1 1 1 1 1 1 0 0 0 0 0 0 0 0 0 0 0 0 0 0\n",
      " 0 0 0 0 0 0 0 0 0 0 0 0 0 0 0 0 0 0 0 0 0 0 0 0 0 0 0 0 0 0 0 0 0 0 0 0 0\n",
      " 0 0 0 0 0 0 0 0 0 0 0 0 0 0 0 0 0 0 0 0 0 0 0 0 0 0 0 0 0 0 0 0 0 0 0 0 0\n",
      " 0 0 0 0 0 0 0 0 0 0 0 0 0 0 0 0 0 0 0 0 0 0 0]\n"
     ]
    }
   ],
   "source": [
    "print(y)"
   ]
  },
  {
   "cell_type": "code",
   "execution_count": 220,
   "metadata": {},
   "outputs": [
    {
     "ename": "ModuleNotFoundError",
     "evalue": "No module named 'torch'",
     "output_type": "error",
     "traceback": [
      "\u001b[0;31m---------------------------------------------------------------------------\u001b[0m",
      "\u001b[0;31mModuleNotFoundError\u001b[0m                       Traceback (most recent call last)",
      "Cell \u001b[0;32mIn[220], line 1\u001b[0m\n\u001b[0;32m----> 1\u001b[0m \u001b[39mimport\u001b[39;00m \u001b[39mtorch\u001b[39;00m\n\u001b[1;32m      2\u001b[0m \u001b[39mfrom\u001b[39;00m \u001b[39msklearn\u001b[39;00m\u001b[39m.\u001b[39;00m\u001b[39mmodel_selection\u001b[39;00m \u001b[39mimport\u001b[39;00m StratifiedKFold, train_test_split\n\u001b[1;32m      4\u001b[0m X \u001b[39m=\u001b[39m torch\u001b[39m.\u001b[39mtensor(X\u001b[39m.\u001b[39mvalues, dtype\u001b[39m=\u001b[39mtorch\u001b[39m.\u001b[39mfloat32)\n",
      "\u001b[0;31mModuleNotFoundError\u001b[0m: No module named 'torch'"
     ]
    }
   ],
   "source": [
    "import torch\n",
    "from sklearn.model_selection import StratifiedKFold, train_test_split\n",
    " \n",
    "X = torch.tensor(X.values, dtype=torch.float32)\n",
    "y = torch.tensor(y, dtype=torch.float32).reshape(-1, 1)"
   ]
  },
  {
   "cell_type": "code",
   "execution_count": null,
   "metadata": {},
   "outputs": [],
   "source": [
    "import torch.nn as nn\n",
    " \n",
    "class Wide(nn.Module):\n",
    "    def __init__(self):\n",
    "        super().__init__()\n",
    "        self.hidden = nn.Linear(60, 180)\n",
    "        self.relu = nn.ReLU()\n",
    "        self.output = nn.Linear(180, 1)\n",
    "        self.sigmoid = nn.Sigmoid()\n",
    " \n",
    "    def forward(self, x):\n",
    "        x = self.relu(self.hidden(x))\n",
    "        x = self.sigmoid(self.output(x))\n",
    "        return x"
   ]
  },
  {
   "cell_type": "code",
   "execution_count": null,
   "metadata": {},
   "outputs": [],
   "source": [
    "class Deep(nn.Module):\n",
    "    def __init__(self):\n",
    "        super().__init__()\n",
    "        self.layer1 = nn.Linear(60, 60)\n",
    "        self.act1 = nn.ReLU()\n",
    "        self.layer2 = nn.Linear(60, 60)\n",
    "        self.act2 = nn.ReLU()\n",
    "        self.layer3 = nn.Linear(60, 60)\n",
    "        self.act3 = nn.ReLU()\n",
    "        self.output = nn.Linear(60, 1)\n",
    "        self.sigmoid = nn.Sigmoid()\n",
    " \n",
    "    def forward(self, x):\n",
    "        x = self.act1(self.layer1(x))\n",
    "        x = self.act2(self.layer2(x))\n",
    "        x = self.act3(self.layer3(x))\n",
    "        x = self.sigmoid(self.output(x))\n",
    "        return x"
   ]
  },
  {
   "cell_type": "code",
   "execution_count": null,
   "metadata": {},
   "outputs": [
    {
     "name": "stdout",
     "output_type": "stream",
     "text": [
      "11161\n",
      "11041\n"
     ]
    }
   ],
   "source": [
    "# Compare model sizes\n",
    "model1 = Wide()\n",
    "model2 = Deep()\n",
    "print(sum([x.reshape(-1).shape[0] for x in model1.parameters()]))  # 11161\n",
    "print(sum([x.reshape(-1).shape[0] for x in model2.parameters()]))  # 11041"
   ]
  },
  {
   "cell_type": "code",
   "execution_count": null,
   "metadata": {},
   "outputs": [],
   "source": [
    "import copy\n",
    "import numpy as np\n",
    "import torch\n",
    "import torch.nn as nn\n",
    "import torch.optim as optim\n",
    "import tqdm\n",
    "\n",
    "def model_train(model, X_train, y_train, X_val, y_val):\n",
    "    # loss function and optimizer\n",
    "    loss_fn = nn.BCELoss()  # binary cross entropy\n",
    "    optimizer = optim.Adam(model.parameters(), lr=0.0001)\n",
    "\n",
    "    n_epochs = 250   # number of epochs to run\n",
    "    batch_size = 10  # size of each batch\n",
    "    batch_start = torch.arange(0, len(X_train), batch_size)\n",
    "\n",
    "    # Hold the best model\n",
    "    best_acc = - np.inf   # init to negative infinity\n",
    "    best_weights = None\n",
    "\n",
    "    for epoch in range(n_epochs):\n",
    "        model.train()\n",
    "        with tqdm.tqdm(batch_start, unit=\"batch\", mininterval=0, disable=True) as bar:\n",
    "            bar.set_description(f\"Epoch {epoch}\")\n",
    "            for start in bar:\n",
    "                # take a batch\n",
    "                X_batch = X_train[start:start+batch_size]\n",
    "                y_batch = y_train[start:start+batch_size]\n",
    "                # forward pass\n",
    "                y_pred = model(X_batch)\n",
    "                loss = loss_fn(y_pred, y_batch)\n",
    "                # backward pass\n",
    "                optimizer.zero_grad()\n",
    "                loss.backward()\n",
    "                # update weights\n",
    "                optimizer.step()\n",
    "                # print progress\n",
    "                acc = (y_pred.round() == y_batch).float().mean()\n",
    "                bar.set_postfix(\n",
    "                    loss=float(loss),\n",
    "                    acc=float(acc)\n",
    "                )\n",
    "        # evaluate accuracy at end of each epoch\n",
    "        model.eval()\n",
    "        y_pred = model(X_val)\n",
    "        acc = (y_pred.round() == y_val).float().mean()\n",
    "        acc = float(acc)\n",
    "        if acc > best_acc:\n",
    "            best_acc = acc\n",
    "            best_weights = copy.deepcopy(model.state_dict())\n",
    "    # restore model and return best accuracy\n",
    "    model.load_state_dict(best_weights)\n",
    "    return best_acc"
   ]
  },
  {
   "cell_type": "code",
   "execution_count": null,
   "metadata": {},
   "outputs": [
    {
     "name": "stdout",
     "output_type": "stream",
     "text": [
      "Accuracy (wide): 0.83\n",
      "Accuracy (wide): 0.90\n",
      "Accuracy (wide): 0.90\n",
      "Accuracy (wide): 0.79\n",
      "Accuracy (wide): 0.76\n",
      "Accuracy (deep): 0.83\n",
      "Accuracy (deep): 0.97\n",
      "Accuracy (deep): 0.83\n",
      "Accuracy (deep): 0.97\n",
      "Accuracy (deep): 0.79\n",
      "Wide: 83.45% (+/- 5.52%)\n",
      "Deep: 87.59% (+/- 7.43%)\n"
     ]
    }
   ],
   "source": [
    "\n",
    "from sklearn.model_selection import StratifiedKFold, train_test_split\n",
    " \n",
    "# train-test split: Hold out the test set for final model evaluation\n",
    "X_train, X_test, y_train, y_test = train_test_split(X, y, train_size=0.7, shuffle=True)\n",
    " \n",
    "# define 5-fold cross validation test harness\n",
    "kfold = StratifiedKFold(n_splits=5, shuffle=True)\n",
    "cv_scores_wide = []\n",
    "for train, test in kfold.split(X_train, y_train):\n",
    "    # create model, train, and get accuracy\n",
    "    model = Wide()\n",
    "    acc = model_train(model, X_train[train], y_train[train], X_train[test], y_train[test])\n",
    "    print(\"Accuracy (wide): %.2f\" % acc)\n",
    "    cv_scores_wide.append(acc)\n",
    "cv_scores_deep = []\n",
    "for train, test in kfold.split(X_train, y_train):\n",
    "    # create model, train, and get accuracy\n",
    "    model = Deep()\n",
    "    acc = model_train(model, X_train[train], y_train[train], X_train[test], y_train[test])\n",
    "    print(\"Accuracy (deep): %.2f\" % acc)\n",
    "    cv_scores_deep.append(acc)\n",
    " \n",
    "# evaluate the model\n",
    "wide_acc = np.mean(cv_scores_wide)\n",
    "wide_std = np.std(cv_scores_wide)\n",
    "deep_acc = np.mean(cv_scores_deep)\n",
    "deep_std = np.std(cv_scores_deep)\n",
    "print(\"Wide: %.2f%% (+/- %.2f%%)\" % (wide_acc*100, wide_std*100))\n",
    "print(\"Deep: %.2f%% (+/- %.2f%%)\" % (deep_acc*100, deep_std*100))"
   ]
  },
  {
   "cell_type": "code",
   "execution_count": null,
   "metadata": {},
   "outputs": [
    {
     "name": "stdout",
     "output_type": "stream",
     "text": [
      "Retrain a deep model\n",
      "Final model accuracy: 80.95%\n"
     ]
    }
   ],
   "source": [
    "# rebuild model with full set of training data\n",
    "if wide_acc > deep_acc:\n",
    "    print(\"Retrain a wide model\")\n",
    "    model = Wide()\n",
    "else:\n",
    "    print(\"Retrain a deep model\")\n",
    "    model = Deep()\n",
    "acc = model_train(model, X_train, y_train, X_test, y_test)\n",
    "print(f\"Final model accuracy: {acc*100:.2f}%\")"
   ]
  },
  {
   "cell_type": "code",
   "execution_count": null,
   "metadata": {},
   "outputs": [
    {
     "name": "stdout",
     "output_type": "stream",
     "text": [
      "[0.0129 0.0141 0.0309 0.0375 0.0767 0.0787 0.0662 0.1108 0.1777 0.2245\n",
      " 0.2431 0.3134 0.3206 0.2917 0.2249 0.2347 0.2143 0.2939 0.4898 0.6127\n",
      " 0.7531 0.7718 0.7432 0.8673 0.9308 0.9836 1.     0.9595 0.8722 0.6862\n",
      " 0.4901 0.328  0.3115 0.1969 0.1019 0.0317 0.0756 0.0907 0.1066 0.138\n",
      " 0.0665 0.1475 0.247  0.2788 0.2709 0.2283 0.1818 0.1185 0.0546 0.0219\n",
      " 0.0204 0.0124 0.0093 0.0072 0.0019 0.0027 0.0054 0.0017 0.0024 0.0029] -> [0.01464847] (expected [0.])\n",
      "[0.018  0.0444 0.0476 0.0698 0.1615 0.0887 0.0596 0.1071 0.3175 0.2918\n",
      " 0.3273 0.3035 0.3033 0.2587 0.1682 0.1308 0.2803 0.4519 0.6641 0.7683\n",
      " 0.696  0.4393 0.2432 0.2886 0.4974 0.8172 1.     0.9238 0.8519 0.7722\n",
      " 0.5772 0.519  0.6824 0.622  0.5054 0.3578 0.3809 0.3813 0.3359 0.2771\n",
      " 0.3648 0.3834 0.3453 0.2096 0.1031 0.0798 0.0701 0.0526 0.0241 0.0117\n",
      " 0.0122 0.0122 0.0114 0.0098 0.0027 0.0025 0.0026 0.005  0.0073 0.0022] -> [0.04804818] (expected [0.])\n",
      "[0.0229 0.0369 0.004  0.0375 0.0455 0.1452 0.2211 0.1188 0.075  0.1631\n",
      " 0.2709 0.3358 0.4091 0.44   0.5485 0.7213 0.8137 0.9185 1.     0.9418\n",
      " 0.9116 0.9349 0.7484 0.5146 0.4106 0.3443 0.6981 0.8713 0.9013 0.8014\n",
      " 0.438  0.1319 0.1709 0.2484 0.3044 0.2312 0.1338 0.2056 0.2474 0.279\n",
      " 0.161  0.0056 0.0351 0.1148 0.1331 0.0276 0.0763 0.0631 0.0309 0.024\n",
      " 0.0115 0.0064 0.0022 0.0122 0.0151 0.0056 0.0026 0.0029 0.0104 0.0163] -> [0.9157767] (expected [1.])\n",
      "[0.0473 0.0509 0.0819 0.1252 0.1783 0.307  0.3008 0.2362 0.383  0.3759\n",
      " 0.3021 0.2909 0.2301 0.1411 0.1582 0.243  0.4474 0.5964 0.6744 0.7969\n",
      " 0.8319 0.7813 0.8626 0.7369 0.4122 0.2596 0.3392 0.3788 0.4488 0.6281\n",
      " 0.7449 0.7328 0.7704 0.787  0.6048 0.586  0.6385 0.7279 0.6286 0.5316\n",
      " 0.4069 0.1791 0.1625 0.2527 0.1903 0.1643 0.0604 0.0209 0.0436 0.0175\n",
      " 0.0107 0.0193 0.0118 0.0064 0.0042 0.0054 0.0049 0.0082 0.0028 0.0027] -> [0.02851192] (expected [1.])\n",
      "[0.0856 0.0454 0.0382 0.0203 0.0385 0.0534 0.214  0.311  0.2837 0.2751\n",
      " 0.2707 0.0946 0.102  0.4519 0.6737 0.6699 0.7066 0.5632 0.3785 0.2721\n",
      " 0.5297 0.7697 0.8643 0.9304 0.9372 0.6247 0.6024 0.681  0.5047 0.5775\n",
      " 0.4754 0.24   0.2779 0.1997 0.5305 0.7409 0.7775 0.4424 0.1416 0.3508\n",
      " 0.4482 0.4208 0.3054 0.2235 0.2611 0.2798 0.2392 0.2021 0.1326 0.0358\n",
      " 0.0128 0.0172 0.0138 0.0079 0.0037 0.0051 0.0258 0.0102 0.0037 0.0037] -> [0.9503407] (expected [1.])\n"
     ]
    }
   ],
   "source": [
    "model.eval()\n",
    "with torch.no_grad():\n",
    "    # Test out inference with 5 samples\n",
    "    for i in range(5):\n",
    "        y_pred = model(X_test[i:i+1])\n",
    "        print(f\"{X_test[i].numpy()} -> {y_pred[0].numpy()} (expected {y_test[i].numpy()})\")"
   ]
  },
  {
   "cell_type": "code",
   "execution_count": null,
   "metadata": {},
   "outputs": [],
   "source": [
    "\n",
    "y_pred = model(X_test[i:i+1])\n",
    "y_pred = y_pred.round() # 0 or 1"
   ]
  },
  {
   "cell_type": "code",
   "execution_count": null,
   "metadata": {},
   "outputs": [],
   "source": [
    "\n",
    "threshold = 0.68\n",
    "y_pred = model(X_test[i:i+1])\n",
    "y_pred = (y_pred > threshold).float() # 0.0 or 1.0"
   ]
  },
  {
   "cell_type": "code",
   "execution_count": null,
   "metadata": {},
   "outputs": [
    {
     "data": {
      "image/png": "[encoded data removed]",
      "text/plain": [
       "<Figure size 432x288 with 1 Axes>"
      ]
     },
     "metadata": {
      "needs_background": "light"
     },
     "output_type": "display_data"
    }
   ],
   "source": [
    "\n",
    "from sklearn.metrics import roc_curve\n",
    "import matplotlib.pyplot as plt\n",
    " \n",
    "with torch.no_grad():\n",
    "    # Plot the ROC curve\n",
    "    y_pred = model(X_test)\n",
    "    fpr, tpr, thresholds = roc_curve(y_test, y_pred)\n",
    "    plt.plot(fpr, tpr) # ROC curve = TPR vs FPR\n",
    "    plt.title(\"Receiver Operating Characteristics\")\n",
    "    plt.xlabel(\"False Positive Rate\")\n",
    "    plt.ylabel(\"True Positive Rate\")\n",
    "    plt.show()"
   ]
  },
  {
   "cell_type": "code",
   "execution_count": null,
   "metadata": {},
   "outputs": [],
   "source": []
  },
  {
   "cell_type": "code",
   "execution_count": null,
   "metadata": {},
   "outputs": [],
   "source": []
  },
  {
   "cell_type": "code",
   "execution_count": null,
   "metadata": {},
   "outputs": [],
   "source": []
  },
  {
   "cell_type": "code",
   "execution_count": null,
   "metadata": {},
   "outputs": [
    {
     "name": "stdout",
     "output_type": "stream",
     "text": [
      "PyTorch version: 1.13.1\n",
      "Is MPS (Metal Performance Shader) built? True\n",
      "Is MPS available? True\n",
      "Using device: mps\n"
     ]
    }
   ],
   "source": [
    "import torch\n",
    "import numpy as np\n",
    "import pandas as pd\n",
    "import sklearn\n",
    "import matplotlib.pyplot as plt\n",
    "\n",
    "print(f\"PyTorch version: {torch.__version__}\")\n",
    "\n",
    "# Check PyTorch has access to MPS (Metal Performance Shader, Apple's GPU architecture)\n",
    "print(f\"Is MPS (Metal Performance Shader) built? {torch.backends.mps.is_built()}\")\n",
    "print(f\"Is MPS available? {torch.backends.mps.is_available()}\")\n",
    "\n",
    "# Set the device      \n",
    "device = \"mps\" if torch.backends.mps.is_available() else \"cpu\"\n",
    "print(f\"Using device: {device}\")"
   ]
  },
  {
   "cell_type": "code",
   "execution_count": null,
   "metadata": {},
   "outputs": [],
   "source": []
  },
  {
   "cell_type": "code",
   "execution_count": null,
   "metadata": {},
   "outputs": [],
   "source": []
  },
  {
   "cell_type": "code",
   "execution_count": null,
   "metadata": {},
   "outputs": [],
   "source": []
  },
  {
   "cell_type": "code",
   "execution_count": null,
   "metadata": {},
   "outputs": [],
   "source": []
  }
 ],
 "metadata": {
  "kernelspec": {
   "display_name": "base",
   "language": "python",
   "name": "python3"
  },
  "language_info": {
   "codemirror_mode": {
    "name": "ipython",
    "version": 3
   },
   "file_extension": ".py",
   "mimetype": "text/x-python",
   "name": "python",
   "nbconvert_exporter": "python",
   "pygments_lexer": "ipython3",
   "version": "3.10.9"
  },
  "orig_nbformat": 4,
  "vscode": {
   "interpreter": {
    "hash": "c6e4e9f98eb68ad3b7c296f83d20e6de614cb42e90992a65aa266555a3137d0d"
   }
  }
 },
 "nbformat": 4,
 "nbformat_minor": 2
}
